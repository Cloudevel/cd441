{
 "cells": [
  {
   "cell_type": "markdown",
   "metadata": {
    "collapsed": true,
    "slideshow": {
     "slide_type": "slide"
    }
   },
   "source": [
    "# *CI/CD*."
   ]
  },
  {
   "cell_type": "markdown",
   "metadata": {},
   "source": [
    "*CI/CD* se refiere a la ejecución autimatizada de diversos procesos cuyo objetivo es el de entregar de la manera más rápida y segura posible las aplicaciones de software a partir de que el código fuente es cargado en un repositorio.\n",
    "\n",
    "A la secuencia de pasos que se ejecutan desde que el código fuente es cargado en un repositorio hasta que la aplicación es entregada, se le conoce como *pipeline*. \n",
    "\n",
    "Una de las características primordiales de *CI/CD* es que, en caso de ser necesario* es posible revertir la aplicación a un estado previo de forma automática. A esto se le conoce como *rollback*."
   ]
  },
  {
   "cell_type": "markdown",
   "metadata": {},
   "source": [
    "## Modalidades de *CI/CD*."
   ]
  },
  {
   "cell_type": "markdown",
   "metadata": {},
   "source": [
    "Dependiendo de la madurez de la organización se pueden aplicar 3 modalidades de *CI/CD*.\n",
    "\n",
    "* Integración continua.\n",
    "* Entrega continua.\n",
    "* Despliegue continuo.\n",
    "\n",
    "<img src=\"img/09/ci-cd-flow-desktop.png\" width=\"70%\">\n",
    "\n",
    "Fuente: https://www.redhat.com/es/topics/devops/what-is-ci-cd"
   ]
  },
  {
   "cell_type": "markdown",
   "metadata": {},
   "source": [
    "### Integración continua.\n",
    "\n",
    "La integración continua consiste en la ejecución de un *pipeline*, el cual, a partir del código añadido a un repostiorio realiza operaciones automaticas de análisis del código, gestión de dependencias, construcción y pruebas automaticas (unitarias y de integración, primordilamente), a fin de asegurar que los cambios recientes no impactarán de forma negativa a la aplicación. En caso de que el código pase los análisis y pruebas, este es empaquetado."
   ]
  },
  {
   "cell_type": "markdown",
   "metadata": {},
   "source": [
    "### Entrega continua.\n",
    "\n",
    "La entrega continua extiende los pasos de la integración continua, permitiendo que el artefacto creado y empaquetado pueda ser añadido a un repositorio (repositorio de artefactos), el cual permita garantizar la trazabilidad de éste una vez desplegado."
   ]
  },
  {
   "cell_type": "markdown",
   "metadata": {},
   "source": [
    "### Despliegue continuo.\n",
    "\n",
    "El despliegue continuo consiste en desplegar la nueva aplicación en producción de forma automática."
   ]
  },
  {
   "cell_type": "markdown",
   "metadata": {},
   "source": [
    "## Estrategias de despliegue."
   ]
  },
  {
   "cell_type": "markdown",
   "metadata": {},
   "source": [
    "### *Rolling Deployment*.\n",
    "\n",
    "Esta es la estrategia más común y consiste en sustituir la aplicación previa con la más reciente y ponerla a disposición de todos los usuarios."
   ]
  },
  {
   "cell_type": "markdown",
   "metadata": {},
   "source": [
    "### *Blue/Green Deployment*\n",
    "\n",
    "Esta estrategia consiste en desplegar gradualmente la nueva aplicación a producción, mediante el redireccionamiento paulatino del tráfico de usuarios en producción de la aplicación previa (*blue*) a la entrante (*green*). Esta estrategia se aplica cuando los cambios entre versiones son ligeros.\n",
    "\n",
    "https://www.redhat.com/en/topics/devops/what-is-blue-green-deployment"
   ]
  },
  {
   "cell_type": "markdown",
   "metadata": {},
   "source": [
    "### *Cannary Deployment*.\n",
    "\n",
    "Esta estrategia permite redireccionar una pequeña fracción del tráfico de usuarios a la nueva aplicación a fin de probar nuevas funcionalidades. En caso de que no existan problemas, la nueva versión sustituirá a la vieja."
   ]
  },
  {
   "cell_type": "markdown",
   "metadata": {},
   "source": [
    "## Stack de *GitHub*.\n",
    "\n",
    "https://github.com/solutions/ci-cd/"
   ]
  },
  {
   "cell_type": "markdown",
   "metadata": {
    "slideshow": {
     "slide_type": "slide"
    }
   },
   "source": [
    "<p style=\"text-align: center\"><a rel=\"license\" href=\"http://creativecommons.org/licenses/by/4.0/\"><img alt=\"Licencia Creative Commons\" style=\"border-width:0\" src=\"https://i.creativecommons.org/l/by/4.0/80x15.png\" /></a><br />Esta obra está bajo una <a rel=\"license\" href=\"http://creativecommons.org/licenses/by/4.0/\">Licencia Creative Commons Atribución 4.0 Internacional</a>.</p>\n",
    "<p style=\"text-align: center\">&copy; José Luis Chiquete Valdivieso. 2023.</p>"
   ]
  }
 ],
 "metadata": {
  "kernelspec": {
   "display_name": "Python 3 (ipykernel)",
   "language": "python",
   "name": "python3"
  },
  "language_info": {
   "codemirror_mode": {
    "name": "ipython",
    "version": 3
   },
   "file_extension": ".py",
   "mimetype": "text/x-python",
   "name": "python",
   "nbconvert_exporter": "python",
   "pygments_lexer": "ipython3",
   "version": "3.10.6"
  }
 },
 "nbformat": 4,
 "nbformat_minor": 2
}
