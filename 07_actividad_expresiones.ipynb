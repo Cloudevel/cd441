{
 "cells": [
  {
   "cell_type": "markdown",
   "id": "29fd488e",
   "metadata": {},
   "source": [
    "# Actividad: un *workflow* que utiliza expresiones."
   ]
  },
  {
   "cell_type": "markdown",
   "id": "b7ad08cf",
   "metadata": {},
   "source": [
    "* En el repositorio creado en la actividad previa, ir a la carpeta ```.github/workflows```."
   ]
  },
  {
   "attachments": {},
   "cell_type": "markdown",
   "id": "45c176da",
   "metadata": {},
   "source": [
    "![image.png](img/07/07-01.png)"
   ]
  },
  {
   "cell_type": "markdown",
   "id": "6b1d8416",
   "metadata": {},
   "source": [
    "* Del menú desplegable de ```Add file```, seleccionar ```Create new file```."
   ]
  },
  {
   "attachments": {},
   "cell_type": "markdown",
   "id": "2f884f19",
   "metadata": {},
   "source": [
    "![image.png](img/07/07-02.png)"
   ]
  },
  {
   "cell_type": "markdown",
   "id": "1a9ee913",
   "metadata": {},
   "source": [
    "* Copiar y pegar el código siguiente:"
   ]
  },
  {
   "cell_type": "markdown",
   "id": "d2e4d272",
   "metadata": {},
   "source": [
    "```yaml\n",
    "\n",
    "name: Expresiones\n",
    "\n",
    "env:\n",
    "   VARIABLE_LOCAL: soy una variable local. \n",
    "\n",
    "on:\n",
    "  workflow_dispatch:\n",
    "\n",
    "jobs:\n",
    "\n",
    "  build:\n",
    "\n",
    "    runs-on: ubuntu-latest\n",
    "\n",
    "    steps:\n",
    "\n",
    "      - uses: actions/checkout@v3\n",
    "\n",
    "      - name: Despliega variable local\n",
    "        run: echo $VARIABLE_LOCAL\n",
    "        \n",
    "      - name: Despliega variable del repositorio\n",
    "        run: echo ${{ vars.VARIABLE_DEMO }}\n",
    "      \n",
    "      - name: No despliega secreto del repositorio\n",
    "        run: echo ${{ secrets.MUY_SECRETO }}\n",
    "```"
   ]
  },
  {
   "attachments": {},
   "cell_type": "markdown",
   "id": "b415031b",
   "metadata": {},
   "source": [
    "![image.png](img/07/07-03.png)"
   ]
  },
  {
   "cell_type": "markdown",
   "id": "33d95ac5",
   "metadata": {},
   "source": [
    "* Realizar un *commit* en la rama."
   ]
  },
  {
   "attachments": {},
   "cell_type": "markdown",
   "id": "6e5df6d7",
   "metadata": {},
   "source": [
    "![image.png](img/07/07-04.png)"
   ]
  },
  {
   "cell_type": "markdown",
   "id": "2af45dcb",
   "metadata": {},
   "source": [
    "* En la pestaña ```Actions``` aparece el registro ```Create expresiones.yml```.\n",
    "* En el menú lateral aparece el *workflow* ```Expresiones```."
   ]
  },
  {
   "attachments": {},
   "cell_type": "markdown",
   "id": "296544f4",
   "metadata": {},
   "source": [
    "![image.png](img/07/07-05.png)"
   ]
  },
  {
   "cell_type": "markdown",
   "id": "be577d1a",
   "metadata": {},
   "source": [
    "* Selccionar el *workflow* ```Expresiones```  del menú lateral."
   ]
  },
  {
   "attachments": {},
   "cell_type": "markdown",
   "id": "6d77b211",
   "metadata": {},
   "source": [
    "![image.png](img/07/07-06.png)"
   ]
  },
  {
   "cell_type": "markdown",
   "id": "e2060c46",
   "metadata": {},
   "source": [
    "* Eejcutar el *workflow*."
   ]
  },
  {
   "attachments": {},
   "cell_type": "markdown",
   "id": "7b18d323",
   "metadata": {},
   "source": [
    "![image.png](img/07/07-07.png)"
   ]
  },
  {
   "cell_type": "markdown",
   "id": "2594ec15",
   "metadata": {},
   "source": [
    "* Selccionar el *job* ```build```."
   ]
  },
  {
   "attachments": {},
   "cell_type": "markdown",
   "id": "e1649867",
   "metadata": {},
   "source": [
    "![image.png](img/07/07-08.png)"
   ]
  },
  {
   "cell_type": "markdown",
   "id": "af2864fd",
   "metadata": {},
   "source": [
    "* El resumen del *workflow* desplegará las variables locales y de entorno y el contenido del secreto será desplegado como ```***```."
   ]
  },
  {
   "attachments": {},
   "cell_type": "markdown",
   "id": "55754245",
   "metadata": {},
   "source": [
    "![image.png](img/07/07-09.png)"
   ]
  },
  {
   "cell_type": "markdown",
   "id": "1466444b",
   "metadata": {},
   "source": [
    "<p style=\"text-align: center\"><a rel=\"license\" href=\"http://creativecommons.org/licenses/by/4.0/\"><img alt=\"Licencia Creative Commons\" style=\"border-width:0\" src=\"https://i.creativecommons.org/l/by/4.0/80x15.png\" /></a><br />Esta obra está bajo una <a rel=\"license\" href=\"http://creativecommons.org/licenses/by/4.0/\">Licencia Creative Commons Atribución 4.0 Internacional</a>.</p>\n",
    "<p style=\"text-align: center\">&copy; José Luis Chiquete Valdivieso. 2023.</p>"
   ]
  }
 ],
 "metadata": {
  "kernelspec": {
   "display_name": "Bash",
   "language": "bash",
   "name": "bash"
  },
  "language_info": {
   "codemirror_mode": "shell",
   "file_extension": ".sh",
   "mimetype": "text/x-sh",
   "name": "bash"
  }
 },
 "nbformat": 4,
 "nbformat_minor": 5
}
