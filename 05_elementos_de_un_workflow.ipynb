{
 "cells": [
  {
   "cell_type": "markdown",
   "id": "614bf415",
   "metadata": {},
   "source": [
    "# Elementos de un *workflow*."
   ]
  },
  {
   "cell_type": "markdown",
   "id": "8826585b",
   "metadata": {},
   "source": [
    "Un repositorio de *Github* puede contener más de un *workflow* y cada *workflows* tiene una estructura básica de ejecución.\n",
    "\n",
    "<img src=\"img/01/github_actions_basico.svg\" width=\"70%\">\n",
    "\n",
    "https://docs.github.com/es/actions/using-workflows/about-workflows"
   ]
  },
  {
   "cell_type": "markdown",
   "id": "3965fc81",
   "metadata": {},
   "source": [
    "## El nombre de un *workflow*.\n",
    "\n",
    "El primer elemento de un *workflow* es el nombre que se le asignará a éste y es definido mediante la clave ```name```\n",
    "\n",
    "```\n",
    "name: <nombre>\n",
    "```"
   ]
  },
  {
   "cell_type": "markdown",
   "id": "4b61296e",
   "metadata": {},
   "source": [
    "**Ejemplo:**"
   ]
  },
  {
   "cell_type": "markdown",
   "id": "aa077b2b",
   "metadata": {},
   "source": [
    "En el caso del archivo ```blank.yml``` se incluyó:"
   ]
  },
  {
   "cell_type": "markdown",
   "id": "14596243",
   "metadata": {},
   "source": [
    "```yaml\n",
    "name: CI\n",
    "```"
   ]
  },
  {
   "cell_type": "markdown",
   "id": "c3e77669",
   "metadata": {},
   "source": [
    "## Eventos y detonantes (*triggers*)."
   ]
  },
  {
   "cell_type": "markdown",
   "id": "6f85ef05",
   "metadata": {},
   "source": [
    "Por lo general, un *workflow* se ejecuta en función de uno o varios eventos predefinidos, los cuales activan un *trigger*. \n",
    "\n",
    "Un *workflow* puede tener uno o más *triggers* los cuales son anidados bajo la clave ```on```.\n",
    "\n",
    "```\n",
    "on:\n",
    "  <trigger 1>:\n",
    "    ...\n",
    "    ...\n",
    "  <trigger 2>:\n",
    "```\n",
    "\n",
    "Los repositorios de *Github Actions* son sensibles a diversos eventos, para los que ha definido un conjunto de detonates (*triggers*) que inician una tarea (*job*).\n",
    "\n",
    "https://docs.github.com/en/actions/using-workflows/events-that-trigger-workflows\n",
    "\n",
    "Para este curso se utilizarán los *triggers*:\n",
    "\n",
    "* [```pull_request```](https://docs.github.com/en/actions/using-workflows/events-that-trigger-workflows#pull_request)\n",
    "* [```push```](https://docs.github.com/en/actions/using-workflows/events-that-trigger-workflows#push)\n",
    "* [```repository_dispatch```](https://docs.github.com/en/actions/using-workflows/events-that-trigger-workflows#repository_dispatch)"
   ]
  },
  {
   "cell_type": "markdown",
   "id": "88b2c7cd",
   "metadata": {},
   "source": [
    "**Ejemplo:**"
   ]
  },
  {
   "cell_type": "markdown",
   "id": "79761d2c",
   "metadata": {},
   "source": [
    "* En el caso del archivo ```blank.yml```se definen los *triggers* para:\n",
    "  * El caso de que se ejecute un ```push``` en la rama ```main```.\n",
    "  * El caso de que se realice un ```pull request``` en la rama ```main```.\n",
    "  * El caso en el que se realice una activación manual o externa."
   ]
  },
  {
   "cell_type": "markdown",
   "id": "bc089a5e",
   "metadata": {},
   "source": [
    "```yaml \n",
    "on:\n",
    "  push:\n",
    "    branches: [ \"main\" ]\n",
    "  pull_request:\n",
    "    branches: [ \"main\" ]\n",
    "  workflow_dispatch:\n",
    "```"
   ]
  },
  {
   "cell_type": "markdown",
   "id": "c645812f",
   "metadata": {},
   "source": [
    "## Trabajos (*jobs*)."
   ]
  },
  {
   "cell_type": "markdown",
   "id": "f0ac7b19",
   "metadata": {},
   "source": [
    "Un *workflow puede consistir de uno o múltilpes *jobs* y cada no de ellos consiste en uno o más pasos.\n",
    "\n",
    "Los *jobs* están anidados bajo la clave ```jobs```.\n",
    "\n",
    "```\n",
    "jobs:\n",
    "  <job 1>:\n",
    "    ...\n",
    "  <job 2>:\n",
    "    ...\n",
    "  ...\n",
    "  <job n>:\n",
    "```\n",
    "\n",
    "Donde:\n",
    "\n",
    "* ```<job x>``` es el identificador de un *job*."
   ]
  },
  {
   "cell_type": "markdown",
   "id": "3057f8b8",
   "metadata": {},
   "source": [
    "**Ejemplo:**"
   ]
  },
  {
   "cell_type": "markdown",
   "id": "68ce26d7",
   "metadata": {},
   "source": [
    "* En el caso del archivo ```blank.yml``` se define sólo un *job* con deintificador ```build```. "
   ]
  },
  {
   "cell_type": "markdown",
   "id": "4f696bfb",
   "metadata": {},
   "source": [
    "```yaml\n",
    "jobs:\n",
    "  build:\n",
    "     ...\n",
    "```"
   ]
  },
  {
   "cell_type": "markdown",
   "id": "1f828e89",
   "metadata": {},
   "source": [
    "### Definición del *runner*.\n",
    "\n",
    "Cada *job* se ejecuta dentro de un *runner*. Y el tipo de runner se define como un valor para la clave: ```runs-on```.\n",
    "\n",
    "```\n",
    "runs-on: <tipo>\n",
    "```"
   ]
  },
  {
   "cell_type": "markdown",
   "id": "73e750cd",
   "metadata": {},
   "source": [
    "**Ejemplo:**"
   ]
  },
  {
   "cell_type": "markdown",
   "id": "b26ba3a4",
   "metadata": {},
   "source": [
    "* En el caso del archivo ```blank.yml``` el runner del *job* ```build``` es ```ubuntu-latest```. "
   ]
  },
  {
   "cell_type": "markdown",
   "id": "9cce19c1",
   "metadata": {},
   "source": [
    "```yaml\n",
    "jobs:\n",
    "  build:\n",
    "    runs-on: ubuntu-latest\n",
    "  ...  \n",
    "```"
   ]
  },
  {
   "cell_type": "markdown",
   "id": "542f96da",
   "metadata": {},
   "source": [
    "### Definición de pasos.\n",
    "\n",
    "Un *job* consta de una lista de pasos consecutivos, anidada bajo la clave ```steps```.\n",
    "\n",
    "```\n",
    "steps:\n",
    "  - <paso 1>\n",
    "  - <paso 2>\n",
    "  ...\n",
    "  - <paso n>\n",
    "```\n",
    "\n",
    "Cada paso puede ser:\n",
    "\n",
    "* Una acción (*action*).\n",
    "* Un *script* de una línea.\n",
    "* Un *script* de múltiples líneas."
   ]
  },
  {
   "cell_type": "markdown",
   "id": "fe7258ec",
   "metadata": {},
   "source": [
    "**Ejemplo:**"
   ]
  },
  {
   "cell_type": "markdown",
   "id": "70fc4fb2",
   "metadata": {},
   "source": [
    "* En el caso del archivo ```blank.yml``` se definen 3 pasos para el *job* ```build```."
   ]
  },
  {
   "cell_type": "markdown",
   "id": "cc5f5351",
   "metadata": {},
   "source": [
    "```yaml\n",
    "jobs:\n",
    "  build:\n",
    "    runs-on: ubuntu-latest\n",
    "    \n",
    "    steps:\n",
    "      - uses: actions/checkout@v3\n",
    "\n",
    "      - name: Run a one-line script\n",
    "        run: echo Hello, world!\n",
    "\n",
    "      - name: Run a multi-line script\n",
    "        run: |\n",
    "          echo Add other actions to build,\n",
    "          echo test, and deploy your project.\n",
    "```"
   ]
  },
  {
   "cell_type": "markdown",
   "id": "6017cb8b",
   "metadata": {},
   "source": [
    "### *Scripts*.\n",
    "\n",
    "Un *script* consiste en una expresión que puede ser interpretada por el *shell* del runner.\n",
    "\n",
    "* Un *script* de una sola línea se define de la siguiente forma:\n",
    "```\n",
    "- name: <nombre del script>\n",
    "  run: <expresión>\n",
    "```\n",
    "\n",
    "Un *script* de varias líneas se define de la siguiente forma:\n",
    "\n",
    "```\n",
    "- name: <nombre del script>\n",
    "  run: \n",
    "    <expresión 1>\n",
    "    <expresión 2>\n",
    "    ...\n",
    "    <expresión n>\n",
    "```"
   ]
  },
  {
   "cell_type": "markdown",
   "id": "24cb27d7",
   "metadata": {},
   "source": [
    "**Ejemplo:**"
   ]
  },
  {
   "cell_type": "markdown",
   "id": "cb7ea44e",
   "metadata": {},
   "source": [
    "* En el caso del archivo ```blank.yaml``` se definen:\n",
    "  * Un *script* de una línea llamando ```Run a one-line script```\n",
    "  * Un *script* de varias líneas llamado ```Run a multi-line script```."
   ]
  },
  {
   "cell_type": "markdown",
   "id": "4a77af67",
   "metadata": {},
   "source": [
    "```yaml\n",
    "jobs:\n",
    "  build:\n",
    "    runs-on: ubuntu-latest\n",
    "    \n",
    "    steps:\n",
    "      - uses: actions/checkout@v3\n",
    "\n",
    "      - name: Run a one-line script\n",
    "        run: echo Hello, world!\n",
    "\n",
    "      - name: Run a multi-line script\n",
    "        run: |\n",
    "          echo Add other actions to build,\n",
    "          echo test, and deploy your project.\n",
    "```"
   ]
  },
  {
   "cell_type": "markdown",
   "id": "3ac688c5",
   "metadata": {},
   "source": [
    "### Acciones (*actions*)."
   ]
  },
  {
   "cell_type": "markdown",
   "id": "92d4c512",
   "metadata": {},
   "source": [
    "Una acción (*action*) es una aplicación creada para la plataforma de *Github Actions* que realiza una tarea compleja pero usada frecuentemente.\n",
    "\n",
    "Las *actions* permiten extender a *Github Actions* para acceder a recursos propios y de otros proveedores de soluciones.\n",
    "\n",
    "```\n",
    "  -uses: <ruta>\n",
    "```\n",
    "Donde:\n",
    "* ```<ruta>``` esla rutsa donde se encuenta la *action*, así como su versión. \n",
    "\n",
    "Las *actions* pueden definirse en:\n",
    "\n",
    "* El mismo repositorio que tu archivo de flujo de trabajo.\n",
    "* Cualquier repositorio público.\n",
    "* Una imagen del contenedor *Docker* publicada en *Docker Hub*.\n",
    "* [*GitHub Marketplace*](https://github.com/marketplace?type=actions), la cual es una ubicación central para *actions* creadas por la comunidad de *GitHub*.\n",
    "\n",
    "El siguiente enlace contiene las instrucciones para crear *actions* propias.\n",
    "\n",
    "* https://docs.github.com/es/actions/creating-actions\n",
    "\n",
    "\n",
    "El siguiente enlace contiene instruccionesw de como encontrar y personalizar las *actions*.\n",
    "\n",
    "* https://docs.github.com/en/actions/learn-github-actions/finding-and-customizing-actions"
   ]
  },
  {
   "cell_type": "markdown",
   "id": "4af75678",
   "metadata": {},
   "source": [
    "**Ejemplo:**"
   ]
  },
  {
   "cell_type": "markdown",
   "id": "6b595cf4",
   "metadata": {},
   "source": [
    "* En el caso del archivo ```blank.yml```, se utiliza la *action* [```actions/chekcout@v3```](https://github.com/actions/checkout), la cual permite acceder al repositorio de *GitHub*."
   ]
  },
  {
   "cell_type": "markdown",
   "id": "de38ce50",
   "metadata": {},
   "source": [
    "```yaml\n",
    "jobs:\n",
    "  build:\n",
    "    runs-on: ubuntu-latest\n",
    "    steps:\n",
    "      - uses: actions/checkout@v3\n",
    "      ...\n",
    "```"
   ]
  },
  {
   "cell_type": "markdown",
   "id": "72ea0db0",
   "metadata": {},
   "source": [
    "## La sintaxis de *YAML* de *Github Actions*."
   ]
  },
  {
   "cell_type": "markdown",
   "id": "17e960cc",
   "metadata": {},
   "source": [
    "La sintaxis de los documentos *YAML* de *Github Actions* es muy extensa y puede ser consultada en:\n",
    "\n",
    "https://docs.github.com/es/actions/using-workflows/workflow-syntax-for-github-actions"
   ]
  },
  {
   "cell_type": "markdown",
   "id": "d8750828",
   "metadata": {},
   "source": [
    "<p style=\"text-align: center\"><a rel=\"license\" href=\"http://creativecommons.org/licenses/by/4.0/\"><img alt=\"Licencia Creative Commons\" style=\"border-width:0\" src=\"https://i.creativecommons.org/l/by/4.0/80x15.png\" /></a><br />Esta obra está bajo una <a rel=\"license\" href=\"http://creativecommons.org/licenses/by/4.0/\">Licencia Creative Commons Atribución 4.0 Internacional</a>.</p>\n",
    "<p style=\"text-align: center\">&copy; José Luis Chiquete Valdivieso. 2023.</p>"
   ]
  }
 ],
 "metadata": {
  "kernelspec": {
   "display_name": "Python 3 (ipykernel)",
   "language": "python",
   "name": "python3"
  },
  "language_info": {
   "codemirror_mode": {
    "name": "ipython",
    "version": 3
   },
   "file_extension": ".py",
   "mimetype": "text/x-python",
   "name": "python",
   "nbconvert_exporter": "python",
   "pygments_lexer": "ipython3",
   "version": "3.10.6"
  }
 },
 "nbformat": 4,
 "nbformat_minor": 5
}
