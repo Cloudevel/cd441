{
 "cells": [
  {
   "cell_type": "markdown",
   "metadata": {
    "collapsed": true,
    "slideshow": {
     "slide_type": "slide"
    }
   },
   "source": [
    "# Entornos en *Github Actions*."
   ]
  },
  {
   "cell_type": "markdown",
   "metadata": {},
   "source": [
    "Como una buena práctica de desarrollo de software, se recomienda enfáticamente que sea posible aprovisionar y asignar entornos separados para al las actividades de:\n",
    "\n",
    "* Desarrollo.\n",
    "* Pruebas.\n",
    "* Aseguramiento de la calidad *QA* (*staging*).\n",
    "* Producción.\n",
    "\n",
    "Cada entorno contaría con características particulares que faciliten la actividad en cuestión. Por ejemplo, que la base de datos del entorno de pruebas contenga datos espcialmente creados para dichas pruebas y que los recursos de cómputo sean relativamente pequeños.\n",
    "\n",
    "https://blog.testproject.io/2021/07/13/managing-environments-in-software-development-life-cycle/"
   ]
  },
  {
   "cell_type": "markdown",
   "metadata": {},
   "source": [
    "Debido a que los cambios en el entorno de producción pueden afectar de forma negativa al negocio si se hace un despliegue de forma inadecuada, es necesario restringir el acceso a éste sólo a personal autorizado e incluso es posible planear una ventana de tiempo posterior al despliegue para que este se ejecute."
   ]
  },
  {
   "cell_type": "markdown",
   "metadata": {},
   "source": [
    "## Los entornos de *Github Actions*.\n",
    "\n",
    "*Github* permite definir y configurar entornos en el apartado de *Settings* al escoger la opción ```Environments``` en el menú lateral izquierdo de un repositorio.\n",
    "\n",
    "![image.png](img/12/12-01.png)\n",
    "\n",
    "https://docs.github.com/en/actions/deployment/targeting-different-environments/using-environments-for-deployment"
   ]
  },
  {
   "cell_type": "markdown",
   "metadata": {},
   "source": [
    "## Configuración de un entorno."
   ]
  },
  {
   "cell_type": "markdown",
   "metadata": {},
   "source": [
    "Es posible configurar entornos con reglas de protección y secretos. \n",
    "\n",
    "Un *job* de un *workflow* que referencie a un entorno debe seguir cualquier regla de protección para el ambiente antes de ejecutar o acceder a los secretos de dicho ambiente."
   ]
  },
  {
   "cell_type": "markdown",
   "metadata": {},
   "source": [
    "La configuración de un entorno se puede definir al crearlo y puede ser modificada posteriormente.\n",
    "\n",
    "![image.png](img/12/12-03.png)"
   ]
  },
  {
   "cell_type": "markdown",
   "metadata": {},
   "source": [
    "Es posible cofigurar las siguientes funcionalidades dentro de un entorno:\n",
    "\n",
    "* Definir variables y secretos.\n",
    "* Asignar personas que autorizadas para aprobar la ejecución de los *workflows* en el entorno.\n",
    "* Definir tiempos de espera antes de ejecutar un *workflow*.\n",
    "* Defiinir qué ramas del repositorio pueden ser desplegadas."
   ]
  },
  {
   "cell_type": "markdown",
   "metadata": {},
   "source": [
    "## Asignación de un entorno a un *job*.\n",
    "\n",
    "Para indicarle a un *job* nel entorno al que hará referencia, se utiliza la clave ```environment``` con el nombre del entorno. De este modo, los contextos ```vars``` y ```secrets``` corresponderán a los definidos en el entorno y aplicarían todas las reglas definidas al *workflow*.\n",
    "\n",
    "![image.png](img/12/12-04.png)"
   ]
  },
  {
   "cell_type": "markdown",
   "metadata": {
    "slideshow": {
     "slide_type": "slide"
    }
   },
   "source": [
    "<p style=\"text-align: center\"><a rel=\"license\" href=\"http://creativecommons.org/licenses/by/4.0/\"><img alt=\"Licencia Creative Commons\" style=\"border-width:0\" src=\"https://i.creativecommons.org/l/by/4.0/80x15.png\" /></a><br />Esta obra está bajo una <a rel=\"license\" href=\"http://creativecommons.org/licenses/by/4.0/\">Licencia Creative Commons Atribución 4.0 Internacional</a>.</p>\n",
    "<p style=\"text-align: center\">&copy; José Luis Chiquete Valdivieso. 2023.</p>"
   ]
  }
 ],
 "metadata": {
  "kernelspec": {
   "display_name": "Python 3 (ipykernel)",
   "language": "python",
   "name": "python3"
  },
  "language_info": {
   "codemirror_mode": {
    "name": "ipython",
    "version": 3
   },
   "file_extension": ".py",
   "mimetype": "text/x-python",
   "name": "python",
   "nbconvert_exporter": "python",
   "pygments_lexer": "ipython3",
   "version": "3.10.6"
  }
 },
 "nbformat": 4,
 "nbformat_minor": 2
}
