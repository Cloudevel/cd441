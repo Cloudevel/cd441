{
 "cells": [
  {
   "cell_type": "markdown",
   "id": "614bf415",
   "metadata": {},
   "source": [
    "# Actividad: \"Hello world\"."
   ]
  },
  {
   "cell_type": "markdown",
   "id": "93dc4714",
   "metadata": {},
   "source": [
    "**Nota:** Es requisito necesario que el asistente cuente con acceso a una cuenta personal de *Github*."
   ]
  },
  {
   "cell_type": "markdown",
   "id": "02478803",
   "metadata": {},
   "source": [
    "## Creación de un repositorio en *GitHub*."
   ]
  },
  {
   "attachments": {},
   "cell_type": "markdown",
   "id": "a9625043",
   "metadata": {},
   "source": [
    "* Seleccionar en la pestaña de repositorios el botón de ```New```.\n",
    "\n",
    "![image.png](img/02/02-01.png)"
   ]
  },
  {
   "attachments": {},
   "cell_type": "markdown",
   "id": "9ef50ce4",
   "metadata": {},
   "source": [
    "* Se recomienda que el repositorio sea público. En este caso, el repositorio se llama ```demo-github-actions```.\n",
    "\n",
    "![image.png](img/02/02-02.png)"
   ]
  },
  {
   "cell_type": "markdown",
   "id": "873d8750",
   "metadata": {},
   "source": [
    "## Crear un *workflow* simple."
   ]
  },
  {
   "attachments": {},
   "cell_type": "markdown",
   "id": "373819e6",
   "metadata": {},
   "source": [
    "* Seleccionar la pestaña ```Actions``` del repositorio recién creado.\n",
    "\n",
    "![image.png](img/02/02-03.png)"
   ]
  },
  {
   "cell_type": "markdown",
   "id": "fc7cdabf",
   "metadata": {},
   "source": [
    "* Seleccionar el botón ```Configure``` de la opción ```Simple workflow```."
   ]
  },
  {
   "attachments": {},
   "cell_type": "markdown",
   "id": "17a9a0f4",
   "metadata": {},
   "source": [
    "* Al seleccionar la opción, se creará el archivo ```.github/workflows/blank.yml``` que contiene la plantilla básica de un *workflow* simple.\n",
    "\n",
    "![image.png](img/02/02-04.png)"
   ]
  },
  {
   "cell_type": "markdown",
   "id": "a24378a4",
   "metadata": {},
   "source": [
    "* El código generado es el siguiente: \n",
    "\n",
    "```yaml\n",
    "# This is a basic workflow to help you get started with Actions\n",
    "\n",
    "name: CI\n",
    "\n",
    "# Controls when the workflow will run\n",
    "on:\n",
    "  # Triggers the workflow on push or pull request events but only for the \"main\" branch\n",
    "  push:\n",
    "    branches: [ \"main\" ]\n",
    "  pull_request:\n",
    "    branches: [ \"main\" ]\n",
    "\n",
    "  # Allows you to run this workflow manually from the Actions tab\n",
    "  workflow_dispatch:\n",
    "\n",
    "# A workflow run is made up of one or more jobs that can run sequentially or in parallel\n",
    "jobs:\n",
    "  # This workflow contains a single job called \"build\"\n",
    "  build:\n",
    "    # The type of runner that the job will run on\n",
    "    runs-on: ubuntu-latest\n",
    "\n",
    "    # Steps represent a sequence of tasks that will be executed as part of the job\n",
    "    steps:\n",
    "      # Checks-out your repository under $GITHUB_WORKSPACE, so your job can access it\n",
    "      - uses: actions/checkout@v3\n",
    "\n",
    "      # Runs a single command using the runners shell\n",
    "      - name: Run a one-line script\n",
    "        run: echo Hello, world!\n",
    "\n",
    "      # Runs a set of commands using the runners shell\n",
    "      - name: Run a multi-line script\n",
    "        run: |\n",
    "          echo Add other actions to build,\n",
    "          echo test, and deploy your project.\n",
    "```"
   ]
  },
  {
   "attachments": {},
   "cell_type": "markdown",
   "id": "014f62fb",
   "metadata": {},
   "source": [
    "* Seleccionar el botón ```Start commit```.\n",
    "\n",
    "![image.png](img/02/02-05.png)"
   ]
  },
  {
   "attachments": {},
   "cell_type": "markdown",
   "id": "e1902cef",
   "metadata": {},
   "source": [
    "* Seleccionar el botón ```Commit new file```.\n",
    "\n",
    "* Este *commit* desencadenará la ejecución del *workflow*.\n",
    "\n",
    "![image.png](img/02/02-06.png)"
   ]
  },
  {
   "attachments": {},
   "cell_type": "markdown",
   "id": "a95172b1",
   "metadata": {},
   "source": [
    "* Al seleccionar la pestaña ```Actions``` se podrá observar la ejecución del *workflow* que se desencadenó  al hacer el *commit*. Si se hace lo suficientemente rápido, se verá el proceso ejecutándose (mostrando un ícono animado en color anaranjado).\n",
    "\n",
    "![image.png](img/02/02-07.png)"
   ]
  },
  {
   "attachments": {},
   "cell_type": "markdown",
   "id": "21ef4aa4",
   "metadata": {},
   "source": [
    "* Es necesario esperar a que termine la ejecución de los *workflows* (icono verde).\n",
    "\n",
    "![image.png](img/02/02-08.png)"
   ]
  },
  {
   "attachments": {},
   "cell_type": "markdown",
   "id": "eefaf4d9",
   "metadata": {},
   "source": [
    "* Seleccione la opción ```CI``` localizada a la izquierda de la pantalla.\n",
    "\n",
    "![image.png](img/02/02-09.png)"
   ]
  },
  {
   "attachments": {},
   "cell_type": "markdown",
   "id": "884ebcd3",
   "metadata": {},
   "source": [
    "* El *workflow* está configurado para activarse de forma manual mediante un *trigger* de tipo ```workflow_dispatch```.\n",
    "\n",
    "![image.png](img/02/02-10.png)"
   ]
  },
  {
   "attachments": {},
   "cell_type": "markdown",
   "id": "02be2e82",
   "metadata": {},
   "source": [
    "* Seleccionar el boton ```Run workflow```.\n",
    "* Seleccionar el botón verde  ```Run workflow```.\n",
    "\n",
    "![image.png](img/02/02-11.png)"
   ]
  },
  {
   "attachments": {},
   "cell_type": "markdown",
   "id": "f4e9de96",
   "metadata": {},
   "source": [
    "* El *workflow* se ejecutará nuevamente.\n",
    "\n",
    "![image.png](img/02/02-12.png)"
   ]
  },
  {
   "attachments": {},
   "cell_type": "markdown",
   "id": "1f17d318",
   "metadata": {},
   "source": [
    "* Una vez terminado, seleccionar el workflow que se ejecutó manualmente.\n",
    "\n",
    "![image.png](img/02/02-13.png)"
   ]
  },
  {
   "cell_type": "markdown",
   "id": "fe436ef6",
   "metadata": {},
   "source": [
    "## Explorar el proceso del *workflow*."
   ]
  },
  {
   "attachments": {},
   "cell_type": "markdown",
   "id": "96224784",
   "metadata": {},
   "source": [
    "* Se presentará el resumen de la ejecución del *workflow*.\n",
    "\n",
    "![image.png](img/02/02-14.png)"
   ]
  },
  {
   "attachments": {},
   "cell_type": "markdown",
   "id": "1d529862",
   "metadata": {},
   "source": [
    "* En este caso, sólo se ejecutó un *task* llamado ```build```.\n",
    "\n",
    "![image.png](img/02/02-15.png)"
   ]
  },
  {
   "attachments": {},
   "cell_type": "markdown",
   "id": "ec4dc7d9",
   "metadata": {},
   "source": [
    "* Al seleccionar el *job* ```build``` se despliegan las acciones realizadas por *Github Actions*.\n",
    "\n",
    "![image.png](img/02/02-16.png)"
   ]
  },
  {
   "attachments": {},
   "cell_type": "markdown",
   "id": "928b84cd",
   "metadata": {},
   "source": [
    "* El proceso de un *workflow* siempre inicia con la puesta a punto de  un *job*, lo cual implica desplegar una unidad de cómputo, llamada *runner*, la cual ejecutará las acciones (*actions*) y *scripts* definidos en el documento *YAML*.\n",
    "\n",
    "![image.png](img/02/02-17.png)"
   ]
  },
  {
   "attachments": {},
   "cell_type": "markdown",
   "id": "26f7b1ac",
   "metadata": {},
   "source": [
    "* Una vez realizado el *workflow*, *Github Actions* limpia el entorno.\n",
    "\n",
    "![image.png](img/02/02-18.png)"
   ]
  },
  {
   "cell_type": "markdown",
   "id": "999fc0e6",
   "metadata": {},
   "source": [
    "<p style=\"text-align: center\"><a rel=\"license\" href=\"http://creativecommons.org/licenses/by/4.0/\"><img alt=\"Licencia Creative Commons\" style=\"border-width:0\" src=\"https://i.creativecommons.org/l/by/4.0/80x15.png\" /></a><br />Esta obra está bajo una <a rel=\"license\" href=\"http://creativecommons.org/licenses/by/4.0/\">Licencia Creative Commons Atribución 4.0 Internacional</a>.</p>\n",
    "<p style=\"text-align: center\">&copy; José Luis Chiquete Valdivieso. 2023.</p>"
   ]
  }
 ],
 "metadata": {
  "kernelspec": {
   "display_name": "Python 3 (ipykernel)",
   "language": "python",
   "name": "python3"
  },
  "language_info": {
   "codemirror_mode": {
    "name": "ipython",
    "version": 3
   },
   "file_extension": ".py",
   "mimetype": "text/x-python",
   "name": "python",
   "nbconvert_exporter": "python",
   "pygments_lexer": "ipython3",
   "version": "3.10.6"
  }
 },
 "nbformat": 4,
 "nbformat_minor": 5
}
