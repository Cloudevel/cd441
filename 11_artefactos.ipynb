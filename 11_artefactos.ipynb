{
 "cells": [
  {
   "cell_type": "markdown",
   "id": "4de69df2",
   "metadata": {},
   "source": [
    "# Artefactos en *Github Actions*."
   ]
  },
  {
   "cell_type": "markdown",
   "id": "61959562",
   "metadata": {},
   "source": [
    "Un artefacto es un archivo, en formato binarios por lo general, que es el resultado del proceso de compilación o empaquetado durante el ciclo de desarrollo de software.\n",
    "\n",
    "Al ser una herramineta de *CI/CD*, es de esperarse que en la mayoría de los casos, el resultado de un *workflow* de *Github Actions* sea un artefacto.\n",
    "\n",
    "Debido a que los *runners* son máquinas efímeras, es necesario extraer y conservar de algún modo los artefactos resultantes de un *workflow*. *Github* actions permite extraer, consumir y guardar artefactos hasta por 90 días.\n",
    "\n",
    "https://docs.github.com/en/actions/using-workflows/storing-workflow-data-as-artifacts"
   ]
  },
  {
   "cell_type": "markdown",
   "id": "c6211d42",
   "metadata": {},
   "source": [
    "## Las *actions* de gestión de artefactos.\n",
    "\n",
    "Las *actions* que permiten realizar operaciones con artefactos son:\n",
    "\n",
    "* [```actions/upload-artifact```](https://github.com/actions/upload-artifact), la cual permite cargar un archivo o un directorio completo al *runner*.\n",
    "* [```actions/download-artifact```](https://github.com/actions/download-artifact), la cual permite extraer un archivo o un documento y hacerlos disponible para su descarga.\n",
    "* De forma interna, [```@actions/artifact```](https://github.com/actions/toolkit/tree/main/packages/artifact) permite gestionar los artefactos."
   ]
  },
  {
   "cell_type": "markdown",
   "id": "623b2a24",
   "metadata": {},
   "source": [
    "**Ejemplo:**\n",
    "\n",
    "El repositorio https://github.com/PythonistaMX/api-github-actions-demo contiene el código de una *API REST* escrita en *Python* y *Flask* y adem;as contiene un workflow llamado [```empaqueta.yml```](https://github.com/PythonistaMX/api-github-actions-demo/blob/main/.github/workflows/empaqueta.yaml).\n",
    "\n",
    "``` yaml\n",
    "name: Empaqueta con tox\n",
    "\n",
    "on:\n",
    "  workflow_dispatch:\n",
    "\n",
    "permissions:\n",
    "  contents: read\n",
    "\n",
    "jobs:\n",
    "  build:\n",
    "\n",
    "    runs-on: ubuntu-latest\n",
    "\n",
    "    steps:\n",
    "    - uses: actions/checkout@v3\n",
    "    - name: Set up Python 3.10\n",
    "      uses: actions/setup-python@v3\n",
    "      with:\n",
    "        python-version: \"3.10\"\n",
    "    - name: Install dependencies\n",
    "      run: |\n",
    "        python -m pip install --upgrade pip\n",
    "        pip install flake8 pytest\n",
    "        if [ -f requirements.txt ]; then pip install -r requirements.txt; fi\n",
    "    - name: Package with tox\n",
    "      run: |\n",
    "        tox\n",
    "    - name: Move package\n",
    "      run: |\n",
    "        mkdir $GITHUB_WORKSPACE/paquete\n",
    "        cp $GITHUB_WORKSPACE/.tox/.pkg/dist/*.tar.gz $GITHUB_WORKSPACE/paquete/\n",
    "        ls $GITHUB_WORKSPACE/paquete/\n",
    "    - name: Use the Upload Artifact GitHub Action\n",
    "      uses: actions/upload-artifact@v3\n",
    "      with: \n",
    "        name: assets-for-download\n",
    "        path: paquete\n",
    "```"
   ]
  },
  {
   "cell_type": "markdown",
   "id": "32eea310",
   "metadata": {},
   "source": [
    "* El paso  ```Package with tox``` del *job* ```build``` crea un paquete ```.tar.gz``` con la aplicación resultante.\n",
    "* El paso  ```Move package``` del *job* ```build``` copia el paquete ```.tar.gz``` al directorio ```paquete```.\n",
    "* El paso  ```Use the Upload Artifact GitHub Action``` del *job* ```build``` extrae el paquete y lo almacena en ```assets-for-download```."
   ]
  },
  {
   "cell_type": "markdown",
   "id": "170e6459",
   "metadata": {},
   "source": [
    "Al finalizar la ejecutac\n",
    "ión del *worklflow*, ```Empaqueta con tox```, es posible accedes y descargar el contenido de ```assets-for-download``` en el apartado ```Artifacts``` localizado en le resumen de la ejecución.\n",
    "\n",
    "![image-2.png](img/11/11-01.png)"
   ]
  },
  {
   "cell_type": "markdown",
   "id": "dccdd19d",
   "metadata": {},
   "source": [
    "![image-2.png](img/11/11-02.png)"
   ]
  },
  {
   "cell_type": "markdown",
   "id": "e9c17372",
   "metadata": {},
   "source": [
    "<p style=\"text-align: center\"><a rel=\"license\" href=\"http://creativecommons.org/licenses/by/4.0/\"><img alt=\"Licencia Creative Commons\" style=\"border-width:0\" src=\"https://i.creativecommons.org/l/by/4.0/80x15.png\" /></a><br />Esta obra está bajo una <a rel=\"license\" href=\"http://creativecommons.org/licenses/by/4.0/\">Licencia Creative Commons Atribución 4.0 Internacional</a>.</p>\n",
    "<p style=\"text-align: center\">&copy; José Luis Chiquete Valdivieso. 2023.</p>"
   ]
  }
 ],
 "metadata": {
  "kernelspec": {
   "display_name": "Bash",
   "language": "bash",
   "name": "bash"
  },
  "language_info": {
   "codemirror_mode": "shell",
   "file_extension": ".sh",
   "mimetype": "text/x-sh",
   "name": "bash"
  }
 },
 "nbformat": 4,
 "nbformat_minor": 5
}
