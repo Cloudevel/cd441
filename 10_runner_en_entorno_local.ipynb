{
 "cells": [
  {
   "cell_type": "markdown",
   "id": "4de69df2",
   "metadata": {},
   "source": [
    "# *Runner* alojado en infraestructura propia."
   ]
  },
  {
   "cell_type": "markdown",
   "id": "27fad587",
   "metadata": {},
   "source": [
    "*Github Actions* pemite la utilización de equipos de cómputo alojados en infraestructura como *runners*.\n",
    "\n",
    "El proceso consiste en:\n",
    "\n",
    "* Descargar e instalar el software adecuado para el sistema y arquitectura correspondiente.\n",
    "* Añadir un *token* proporcionado por *Github*.\n",
    "* Configurar la aplicación.\n",
    "* Ejecutar la aplicación.\n",
    "\n",
    "https://docs.github.com/en/actions/hosting-your-own-runners/managing-self-hosted-runners/about-self-hosted-runners"
   ]
  },
  {
   "cell_type": "markdown",
   "id": "74aeca8b",
   "metadata": {},
   "source": [
    "## Procedimiento para obtener el software y el *token*."
   ]
  },
  {
   "cell_type": "markdown",
   "id": "5c97d372",
   "metadata": {},
   "source": [
    "* Seleccionar la pestaña ```Settings``` del repositorio.\n",
    "\n",
    "![imagen.png](img/10/10-01.png)"
   ]
  },
  {
   "cell_type": "markdown",
   "id": "9ade50c1",
   "metadata": {},
   "source": [
    "* Seleccionar la opción ```Runners``` del menú deplegable ```Actions```, localizado en el menú lateral izquierdo.\n",
    "\n",
    "![imagen.png](img/10/10-02.png)"
   ]
  },
  {
   "cell_type": "markdown",
   "id": "f1a2bbd2",
   "metadata": {},
   "source": [
    "* Seleccionar el botón ```New self-hosted runner```.\n",
    "\n",
    "![imagen.png](img/10/10-03.png)"
   ]
  },
  {
   "cell_type": "markdown",
   "id": "14403f52",
   "metadata": {},
   "source": [
    "* Seleccionar el sistema operativo y la arquitectura de CPU. En este caso, ```Linux``` y ```x64```.\n",
    "* * Seguir las instrucciones.\n",
    "\n",
    "![imagen.png](img/10/10-04.png)"
   ]
  },
  {
   "cell_type": "markdown",
   "id": "3a054d85",
   "metadata": {},
   "source": [
    "## Actividad.\n",
    "\n",
    "A continuación se realizará el proceso para habilitar un *runner* alojado en infraestructura propia. A partir de una máquina basada en *GNU/Linux*.\n",
    "\n",
    "**Nota:** Se da por sentado que esta *notebook* se está ejecutando en un equipo basado en *GNU/Linux*. "
   ]
  },
  {
   "cell_type": "markdown",
   "id": "5d88ea59",
   "metadata": {},
   "source": [
    "* La siguiente celda creará el subdirectorio ```actions-runner```."
   ]
  },
  {
   "cell_type": "code",
   "execution_count": 1,
   "id": "6e8741b7",
   "metadata": {},
   "outputs": [],
   "source": [
    "mkdir actions-runner"
   ]
  },
  {
   "cell_type": "markdown",
   "id": "7eeef3c9",
   "metadata": {},
   "source": [
    "* La siguiente celda moverá la ruta del directorio de la  *notebook* a ```actions-runner```."
   ]
  },
  {
   "cell_type": "code",
   "execution_count": 2,
   "id": "a032f68f",
   "metadata": {},
   "outputs": [],
   "source": [
    "cd actions-runner"
   ]
  },
  {
   "cell_type": "markdown",
   "id": "50ec4096",
   "metadata": {},
   "source": [
    "* La siguiente celda descargará el paquete con la aplicación de *Github Actions*."
   ]
  },
  {
   "cell_type": "code",
   "execution_count": 13,
   "id": "7f31962e",
   "metadata": {
    "scrolled": true
   },
   "outputs": [
    {
     "name": "stdout",
     "output_type": "stream",
     "text": [
      "  % Total    % Received % Xferd  Average Speed   Time    Time     Time  Current\n",
      "                                 Dload  Upload   Total   Spent    Left  Speed\n",
      "  0     0    0     0    0     0      0      0 --:--:-- --:--:-- --:--:--     0\n",
      "100  137M  100  137M    0     0  7074k      0  0:00:19  0:00:19 --:--:-- 5551k\n"
     ]
    }
   ],
   "source": [
    "curl -o actions-runner-linux-x64-2.306.0.tar.gz -L https://github.com/actions/runner/releases/download/v2.306.0/actions-runner-linux-x64-2.306.0.tar.gz"
   ]
  },
  {
   "cell_type": "markdown",
   "id": "9f3ea4aa",
   "metadata": {},
   "source": [
    "* Es necesario copiar el comando que incluye el *token* mostrado en las instrucciones de *GitHub*.\n",
    "\n",
    "**ADVERTENCIA:** El *token* nunca es el mismo.\n",
    "\n",
    "![imagen.png](img/10/10-05.png)"
   ]
  },
  {
   "cell_type": "code",
   "execution_count": 14,
   "id": "82b21490",
   "metadata": {
    "scrolled": true
   },
   "outputs": [
    {
     "name": "stdout",
     "output_type": "stream",
     "text": [
      "actions-runner-linux-x64-2.306.0.tar.gz: OK\n"
     ]
    }
   ],
   "source": [
    "# Sustituya el código aquí.\n",
    "\n",
    "echo \"b0a090336f0d0a439dac7505475a1fb822f61bbb36420c7b3b3fe6b1bdc4dbaa  actions-runner-linux-x64-2.306.0.tar.gz\" | shasum -a 256 -c"
   ]
  },
  {
   "cell_type": "markdown",
   "id": "eef76f96",
   "metadata": {},
   "source": [
    "* La siguiente celda descomprimirá la aplicación de *runner*."
   ]
  },
  {
   "cell_type": "code",
   "execution_count": 15,
   "id": "79756225",
   "metadata": {},
   "outputs": [],
   "source": [
    "tar xzf ./actions-runner-linux-x64-2.306.0.tar.gz"
   ]
  },
  {
   "cell_type": "markdown",
   "id": "1b74a265",
   "metadata": {},
   "source": [
    "* Es necesario abrir una terminal y moverse al subdirectorio ```actions-runner```. En el caso de estar usando esta *notebook* desde la *VM* porprocionada, el comando es:\n",
    "\n",
    "``` bash\n",
    "cd cd441/actions-runner\n",
    "```"
   ]
  },
  {
   "cell_type": "markdown",
   "id": "b14dfd1f",
   "metadata": {},
   "source": [
    "* Es necesario ejecutar desde una terminal el comando de configuración que se muestra en las intrucciones de *Github*.\n",
    "\n",
    "![imagen.png](img/10/10-06.png)"
   ]
  },
  {
   "cell_type": "markdown",
   "id": "7e2d9120",
   "metadata": {},
   "source": [
    "* Al ejecutar el *script de configuración* sólo hay que dar ```Enter``` a las opciones por defecto.\n",
    "\n",
    "![imagen.png](img/10/10-07.png)"
   ]
  },
  {
   "cell_type": "markdown",
   "id": "9f5bf26c",
   "metadata": {},
   "source": [
    "* Es necesario ejecutar desde la misma terminal en la que se configuró la aplicación el siguiente comando:\n",
    "\n",
    "```bash\n",
    "./run.sh\n",
    "```\n",
    "\n",
    "* Si la configuración se realizó correctamente, la aplicación se conectará a *Github* y estará a la espera de recibir *jobs*.\n",
    "\n",
    "![imagen.png](img/10/10-08.png)"
   ]
  },
  {
   "cell_type": "markdown",
   "id": "0e3eb7ad",
   "metadata": {},
   "source": [
    "* En el repositorio de las actividades, se debe editar el archivo ```.github/workflows/expresiones.yml```. cambiar el tipo de *runner* a ```runs-on: self-hosted``` y hacer un *commit* en la rama.\n",
    "\n",
    "![imagen.png](img/10/10-09.png)"
   ]
  },
  {
   "cell_type": "markdown",
   "id": "e0a384f3",
   "metadata": {},
   "source": [
    "* Al ejecutar manualmente el *workflow* ```Expresiones```, se realizará la conexión con el *runner* local y los *jobs* se ejrcutarán en este.\n",
    "\n",
    "![imagen.png](img/10/10-10.png)"
   ]
  },
  {
   "cell_type": "markdown",
   "id": "4da5bb64",
   "metadata": {},
   "source": [
    "* En la terminal donde se ejecuta el *runner*. Se reflejará la actividad.\n",
    "\n",
    "![imagen.png](img/10/10-11.png)"
   ]
  },
  {
   "cell_type": "markdown",
   "id": "29240287",
   "metadata": {},
   "source": [
    "<p style=\"text-align: center\"><a rel=\"license\" href=\"http://creativecommons.org/licenses/by/4.0/\"><img alt=\"Licencia Creative Commons\" style=\"border-width:0\" src=\"https://i.creativecommons.org/l/by/4.0/80x15.png\" /></a><br />Esta obra está bajo una <a rel=\"license\" href=\"http://creativecommons.org/licenses/by/4.0/\">Licencia Creative Commons Atribución 4.0 Internacional</a>.</p>\n",
    "<p style=\"text-align: center\">&copy; José Luis Chiquete Valdivieso. 2023.</p>"
   ]
  }
 ],
 "metadata": {
  "kernelspec": {
   "display_name": "Bash",
   "language": "bash",
   "name": "bash"
  },
  "language_info": {
   "codemirror_mode": "shell",
   "file_extension": ".sh",
   "mimetype": "text/x-sh",
   "name": "bash"
  }
 },
 "nbformat": 4,
 "nbformat_minor": 5
}
