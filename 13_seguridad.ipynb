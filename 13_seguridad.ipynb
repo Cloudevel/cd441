{
 "cells": [
  {
   "cell_type": "markdown",
   "id": "4de69df2",
   "metadata": {},
   "source": [
    "#  Seguridad."
   ]
  },
  {
   "cell_type": "markdown",
   "id": "29f1ba3e",
   "metadata": {},
   "source": [
    "Existen varias recomendaciones en materia de seguridad para poder utilizar *Github Actions* de forma adecuada.\n",
    "\n",
    "* https://docs.github.com/es/actions/security-guides/security-hardening-for-github-actions"
   ]
  },
  {
   "cell_type": "markdown",
   "id": "6cae1897",
   "metadata": {},
   "source": [
    "## Uso de secretos.\n",
    "\n",
    "Los valores sensibles jamás deben almacenarse como texto plano en archivos de flujo de trabajo, sino más bien como secretos. Los secretos se pueden configurar en el nivel de organización, repositorio o entorno, y permiten almacenar información confidencial en *GitHub*.\n",
    "\n",
    "Para mayor información, consultar:\n",
    "\n",
    "* https://docs.github.com/es/actions/security-guides/security-hardening-for-github-actions#using-secrets"
   ]
  },
  {
   "cell_type": "markdown",
   "id": "be2f2713",
   "metadata": {},
   "source": [
    "## Uso de ```CODEOWNERS``` para supervisar los cambios.\n",
    "\n",
    "Es posible aprovehcar la característica ```CODEOWNERS``` para controlar cómo se realizan los cambios en los archivos de los *workflows*. \n",
    "\n",
    "Por ejemplo, si todos los archivos de *workflow* se almacenan en ```.github/workflows```, es posible agregar este directorio a la lista de propietarios de código para que cualquier cambio propuesto a estos archivos requiera primero de una aprobación de un revisor designado.\n",
    "\n",
    "Para mayor información, consultar:\n",
    "\n",
    "* https://docs.github.com/es/repositories/managing-your-repositorys-settings-and-features/customizing-your-repository/about-code-owners"
   ]
  },
  {
   "cell_type": "markdown",
   "id": "60c45bb8",
   "metadata": {},
   "source": [
    "## Entender el riesgo de las inyecciones de código.\n",
    "\n",
    "Cuando se crean *workflows*, acciones personalizadas y acciones compuestas, siempre debe plantearse si el código podría ejecutar entradas no fiables creadas por algún atacantes. \n",
    "\n",
    "Esto puede ocurrir cuando un atacante agrega comandos y *scripts* malintencionados a un contexto. Cuando un *workflow* se ejecuta, estas secuencias podrían interpretarse como código que luego se ejecutará en el *runner*.\n",
    "\n",
    "Para mayor información, consultar:\n",
    "\n",
    "* https://docs.github.com/es/actions/security-guides/security-hardening-for-github-actions#understanding-the-risk-of-script-injections"
   ]
  },
  {
   "cell_type": "markdown",
   "id": "f4abb0a3",
   "metadata": {},
   "source": [
    "## Utilizar ```OpenID connect```  para acceder a los recursos en la nube .\n",
    "\n",
    "Si los *workflows* de *GitHub Actions* necesitan acceder a los recursos de un proveedor de servicios en la red que sea compatible con [*OpenID Connect* (*OIDC*)](https://openid.net/connect/), es posible configurarlos para que se autentiquen directamente con dicho proveedor. Esto permitirá dejar de almacenar estas credenciales como secretos de duración larga y proporcionará otros beneficios de seguridad.\n",
    "\n",
    "Para mayor información, consultar:\n",
    "\n",
    "* https://docs.github.com/es/actions/deployment/security-hardening-your-deployments/about-security-hardening-with-openid-connect"
   ]
  },
  {
   "cell_type": "markdown",
   "id": "6441fb99",
   "metadata": {},
   "source": [
    "## Ser cuidadoso con *actions* de terceros.\n",
    "\n",
    "Los *jobs* individuales en un *workflow* pueden interactuar con (y ponerse enriesgo con) otros *jobs*. \n",
    "\n",
    "Por ejemplo:\n",
    "\n",
    "* Un *job* que consulta las variables de entorno que se utilizan por otro *job* subsecuente.\n",
    "* Escribir archivos en un directorio compartido que el *job* subsecuente proces.\n",
    "* Si un *job* interactúa con el conector de *Docker* e inspecciona a otros contenedores en ejecución y ejecuta comandos en ellos.\n",
    "\n",
    "Para mayor información, consultar:\n",
    "\n",
    "* https://docs.github.com/es/actions/security-guides/security-hardening-for-github-actions#using-third-party-actions"
   ]
  },
  {
   "cell_type": "markdown",
   "id": "a1fdcdb0",
   "metadata": {},
   "source": [
    "## El uso de *Dependabot version updates*.\n",
    "\n",
    "Es posible usar [*Dependabot version updates*](https://docs.github.com/es/code-security/dependabot/dependabot-version-updates/about-dependabot-version-updates) para asegurartse de que las referencias a las acciones y los *workflows* reutilizables usados en el repositorio se mantienen actualizados. Las acciones a menudo se actualizan con correcciones de errores y con nuevas características para que los procesos automatizados sean más confiables, rápidos y seguros. *Dependabot version updates* acaba con la necesidad de mantener las dependencias, ya que *Dependabot* lo hace automáticamente.\n",
    "\n",
    "Para mayor información, consultar:\n",
    "\n",
    "* https://docs.github.com/es/code-security/dependabot/working-with-dependabot/keeping-your-actions-up-to-date-with-dependabot"
   ]
  },
  {
   "cell_type": "markdown",
   "id": "b501c10b",
   "metadata": {},
   "source": [
    "## Impedir que *GitHub Actions*  cree o apruebe *pull requests*.\n",
    "\n",
    "Es posible restingir la creación o aprobación de *pull requests* desde un *workflow*. \n",
    "\n",
    "Permitir que los *workflows*, o cualquier otra automatización, creen o aprueben *pull requests* podría ser un riesgo de seguridad sin la supervisión adecuada.\n",
    "\n",
    "Para mayor información, consultar:\n",
    "\n",
    "* https://docs.github.com/es/github/setting-up-and-managing-organizations-and-teams/disabling-or-limiting-github-actions-for-your-organization#preventing-github-actions-from-creating-or-approving-pull-requests\n",
    "\n",
    "* https://docs.github.com/es/repositories/managing-your-repositorys-settings-and-features/enabling-features-for-your-repository/managing-github-actions-settings-for-a-repository#preventing-github-actions-from-creating-or-approving-pull-requests"
   ]
  },
  {
   "cell_type": "markdown",
   "id": "5840333d",
   "metadata": {},
   "source": [
    "## Considerar el acceso entre repositorios.\n",
    "\n",
    "*GitHub Actions* tiene fue diseñµado para gestionar el ámbito de un solo repositorio a la vez. [```GITHUB_TOKEN```](https://docs.github.com/en/actions/security-guides/automatic-token-authentication) concede el mismo nivel de acceso que el de un usuario con acceso de escritura, ya que cualquier usuario con este tipo de acceso puede acceder a este *token* creando o modificando un archivo de *workflow*, lo que eleva los permisos de ```GITHUB_TOKEN``` en caso de ser necesario. \n",
    "\n",
    "Los usuarios tienen permisos específicos para cada repositorio, por lo que permitir que ```GITHUB_TOKEN``` para un repositorio otorgue acceso a otro afectaría al modelo de permisos de *GitHub* si no se implementa con cuidado. De forma similar, se debe tener cuidado al agregar *tokens* de autenticación de *GitHub* a un flujo de trabajo, ya que esto también puede afectar el modelo de permisos de *GitHub* al otorgar inadvertidamente un acceso amplio a los colaboradores.\n",
    "\n",
    "Para mayor información consultar:\n",
    "\n",
    "* https://docs.github.com/en/actions/security-guides/security-hardening-for-github-actions#considering-cross-repository-access"
   ]
  },
  {
   "cell_type": "markdown",
   "id": "04b34c99",
   "metadata": {},
   "source": [
    "## Revisar de la cadena de suministro para *runners* alojados en *GitHub*.\n",
    "\n",
    "Es posible consultar una lista de materiales de software (*SBOM*) a fin de comprobar qué software se ha instalado previamente en la imagen del *runner* hospedado en *GitHub* usada durante las ejecuciones de *workflows*. \n",
    "\n",
    "Es posible proporcionar a los usuarios la *SBOM*, que pueden ejecutar con un analizador de vulnerabilidades para validar si hay alguna vulnerabilidad en el producto. Si se pretende crear artefactos, es posible incluir esta *SBOM* en la lista de materiales para obtener una lista completa de todo lo que se ha utlizado en la creación del software.\n",
    "\n",
    "Las SBOM están disponibles para imágenes de los *runners* de *Ubuntu*, *Windows* y *MacOS*. Es posible consultar la *SBOM* de la compilación en los recursos de versión en https://github.com/actions/runner-images/releases. Una *SBOM* con un nombre de archivo en formato ```sbom.<IMAGE-NAME>.json.zip``` se puede encontrar en los datos adjuntos de cada versión."
   ]
  },
  {
   "cell_type": "markdown",
   "id": "528cfe75",
   "metadata": {},
   "source": [
    "## Fortalecimiento para los *runners* auto-hospedados.\n",
    "\n",
    "Los *runners* hospedados en *GitHub* ejecutan código en máquinas virtuales aisladas, limpias y efímeras, lo que significa que no hay forma de poner este entorno en riesgo de forma persistente, o de obtener acceso de otra forma a más información de la que se ha colocado en este entorno durante el proceso de arranque.\n",
    "\n",
    "Los *runners* auto-hospedados no tienen garantías sobre ejecutar en máquinas virtuales limpias y efímeras, y pueden ponerse en riesgo de forma persistente mediante el código no fiable en un flujo de trabajo.\n",
    "\n",
    "Para mayor información consultar:\n",
    "\n",
    "* https://docs.github.com/es/actions/security-guides/security-hardening-for-github-actions#hardening-for-self-hosted-runners"
   ]
  },
  {
   "cell_type": "markdown",
   "id": "dc6c7c87",
   "metadata": {},
   "source": [
    "## Auditar eventos de *GitHub Actions*.\n",
    "\n",
    "Es posible utilizar la bitácora de auditoría para monitorear las tareas administrativas en una organización. El registro de auditoría registra el tipo de acción, cuándo se ejecutó, y qué cuenta personal llevó a cabo la acción.\n",
    "\n",
    "Para mayor información consultar:\n",
    "\n",
    "* https://docs.github.com/es/actions/security-guides/security-hardening-for-github-actions#auditar-eventos-de-github-actions \n",
    "* https://docs.github.com/es/organizations/keeping-your-organization-secure/managing-security-settings-for-your-organization/reviewing-the-audit-log-for-your-organization"
   ]
  },
  {
   "cell_type": "markdown",
   "id": "e6b4f57c",
   "metadata": {},
   "source": [
    "<p style=\"text-align: center\"><a rel=\"license\" href=\"http://creativecommons.org/licenses/by/4.0/\"><img alt=\"Licencia Creative Commons\" style=\"border-width:0\" src=\"https://i.creativecommons.org/l/by/4.0/80x15.png\" /></a><br />Esta obra está bajo una <a rel=\"license\" href=\"http://creativecommons.org/licenses/by/4.0/\">Licencia Creative Commons Atribución 4.0 Internacional</a>.</p>\n",
    "<p style=\"text-align: center\">&copy; José Luis Chiquete Valdivieso. 2023.</p>"
   ]
  }
 ],
 "metadata": {
  "kernelspec": {
   "display_name": "Bash",
   "language": "bash",
   "name": "bash"
  },
  "language_info": {
   "codemirror_mode": "shell",
   "file_extension": ".sh",
   "mimetype": "text/x-sh",
   "name": "bash"
  }
 },
 "nbformat": 4,
 "nbformat_minor": 5
}
