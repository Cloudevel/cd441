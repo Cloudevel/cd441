{
 "cells": [
  {
   "cell_type": "markdown",
   "metadata": {
    "collapsed": true,
    "slideshow": {
     "slide_type": "slide"
    }
   },
   "source": [
    "# DevOps."
   ]
  },
  {
   "cell_type": "markdown",
   "metadata": {
    "slideshow": {
     "slide_type": "subslide"
    }
   },
   "source": [
    "* Es una contracción de \"Desarrollo y operaciones\".\n",
    "* El término fue acuñado en 2009 por Patrick Dubois.\n",
    "\n",
    "<img src=\"img/08/handbook.jpg\" width=\"15%\">\n",
    "\n",
    "https://newrelic.com/blog/nerd-life/devops-name"
   ]
  },
  {
   "cell_type": "markdown",
   "metadata": {
    "slideshow": {
     "slide_type": "subslide"
    }
   },
   "source": [
    "## DevOps implica."
   ]
  },
  {
   "cell_type": "markdown",
   "metadata": {
    "slideshow": {
     "slide_type": "fragment"
    }
   },
   "source": [
    "Automatizar todo aquello que no genera valor (*toil*) en el ciclo de vida del desarrollo de software con la finalidad de permitir a los equipos de trabajo dedicar su talento a crear valor. "
   ]
  },
  {
   "cell_type": "markdown",
   "metadata": {
    "slideshow": {
     "slide_type": "subslide"
    }
   },
   "source": [
    "# DevOps es una 'cultura'."
   ]
  },
  {
   "cell_type": "markdown",
   "metadata": {
    "slideshow": {
     "slide_type": "fragment"
    }
   },
   "source": [
    "* Enfocada a organizaciones ágiles.\n",
    "* En las que el ciclo de desarrollo de software es un proceso industrial.\n",
    "* En la que el talento debe dedicarse a crear y lo demás puede ser automatizado.\n",
    "* DevOps no es un \"stack\" o un perfil."
   ]
  },
  {
   "cell_type": "markdown",
   "metadata": {
    "slideshow": {
     "slide_type": "slide"
    }
   },
   "source": [
    "## Conceptos ligados a DevOps."
   ]
  },
  {
   "cell_type": "markdown",
   "metadata": {
    "slideshow": {
     "slide_type": "fragment"
    }
   },
   "source": [
    "Existen diversos conceptos ligados a DevOps que aún cuando son compatibles, no son obligatorios."
   ]
  },
  {
   "cell_type": "markdown",
   "metadata": {
    "slideshow": {
     "slide_type": "subslide"
    }
   },
   "source": [
    "### Desarrollo ágil."
   ]
  },
  {
   "cell_type": "markdown",
   "metadata": {
    "slideshow": {
     "slide_type": "subslide"
    }
   },
   "source": [
    "### Cómputo en la nube."
   ]
  },
  {
   "cell_type": "markdown",
   "metadata": {
    "slideshow": {
     "slide_type": "subslide"
    }
   },
   "source": [
    "### Infraestructura como código."
   ]
  },
  {
   "cell_type": "markdown",
   "metadata": {
    "slideshow": {
     "slide_type": "subslide"
    }
   },
   "source": [
    "### Microservicios."
   ]
  },
  {
   "cell_type": "markdown",
   "metadata": {},
   "source": [
    "### Pruebas automatizadas."
   ]
  },
  {
   "cell_type": "markdown",
   "metadata": {
    "slideshow": {
     "slide_type": "slide"
    }
   },
   "source": [
    "## La promesa de DevOps."
   ]
  },
  {
   "cell_type": "markdown",
   "metadata": {
    "slideshow": {
     "slide_type": "subslide"
    }
   },
   "source": [
    "* Automatización.\n",
    "* Autogestión.\n",
    "* Escalabilidad.\n",
    "* Seguridad (DevSecOps).\n",
    "* Disponibilidad.\n",
    "* Gestión de entornos.\n",
    "* Integración, Entrega y Despliegue Continuos."
   ]
  },
  {
   "cell_type": "markdown",
   "metadata": {
    "slideshow": {
     "slide_type": "slide"
    }
   },
   "source": [
    "## La cadena de DevOps."
   ]
  },
  {
   "cell_type": "markdown",
   "metadata": {
    "slideshow": {
     "slide_type": "subslide"
    }
   },
   "source": [
    "La cadena de *DevOps*, está basada en el [ciclo de Deming](https://es.wikipedia.org/wiki/Ciclo_de_Deming), el cual ha sido un referente del asweguramiento de la calidad en la insdutria manufacturera desde mediados del sigo XX.\n",
    "\n",
    "<img src=\"img/08/deming.jpg\" width=\"40%\">\n",
    "\n",
    "La cadena de *DevOps* permite la entrega de productos de software de forma industrializada.\n",
    "\n",
    "<img src=\"img/08/toolchain.png\"  width=\"60%\">"
   ]
  },
  {
   "cell_type": "markdown",
   "metadata": {
    "slideshow": {
     "slide_type": "subslide"
    }
   },
   "source": [
    "### Código."
   ]
  },
  {
   "cell_type": "markdown",
   "metadata": {
    "slideshow": {
     "slide_type": "fragment"
    }
   },
   "source": [
    " * Gestión del código.\n",
    " * Código seguro.\n",
    " * Control de versiones."
   ]
  },
  {
   "cell_type": "markdown",
   "metadata": {
    "slideshow": {
     "slide_type": "subslide"
    }
   },
   "source": [
    "### Construcción.\n",
    "\n",
    "* Automatización.\n",
    "* Gestión de dependencias.\n",
    "* Análisis estático del código.\n",
    "* Empaquetamiento.\n",
    "* Gestión de artefactos."
   ]
  },
  {
   "cell_type": "markdown",
   "metadata": {
    "slideshow": {
     "slide_type": "subslide"
    }
   },
   "source": [
    "### Pruebas.\n",
    "\n",
    "* Pruebas funcionales.\n",
    "* Pruebas de integración.\n",
    "* Pruebas de seguridad.\n",
    "* Aseguramiento de la calidad (QA).\n",
    "* Análisis dinámico."
   ]
  },
  {
   "cell_type": "markdown",
   "metadata": {
    "slideshow": {
     "slide_type": "subslide"
    }
   },
   "source": [
    "### Liberación.\n",
    "\n",
    "* Integración continua.\n",
    "* Entrega continua."
   ]
  },
  {
   "cell_type": "markdown",
   "metadata": {
    "slideshow": {
     "slide_type": "subslide"
    }
   },
   "source": [
    "### Despliegue.\n",
    "\n",
    "* Aprovisionamiento de entornos.\n",
    "* Infraestructura como código.\n",
    "* Gestión de la configuración."
   ]
  },
  {
   "cell_type": "markdown",
   "metadata": {
    "slideshow": {
     "slide_type": "subslide"
    }
   },
   "source": [
    "### Operación."
   ]
  },
  {
   "cell_type": "markdown",
   "metadata": {
    "slideshow": {
     "slide_type": "fragment"
    }
   },
   "source": [
    "* Seguridad.\n",
    "* Disponibilidad.\n",
    "* Escalabilidad.\n",
    "* Mantenibilidad.\n",
    "* Usabilidad.\n",
    "* Extensibilidad.\n",
    "* Portabilidad.\n",
    "* Resiliencia.\n",
    "\n",
    "https://en.wikipedia.org/wiki/List_of_system_quality_attributes"
   ]
  },
  {
   "cell_type": "markdown",
   "metadata": {
    "slideshow": {
     "slide_type": "subslide"
    }
   },
   "source": [
    "### Monitoreo.\n",
    "\n",
    "* Observabilidad.\n",
    "   * Monitoreo.\n",
    "   * *Logging*.\n",
    "   * Depuración.\n",
    "   * *Tracing*.\n",
    "   \n",
    "* Niveles de servicio (*SLI*, *SLO*, *SLA*).\n",
    "* Gestión de incidentes."
   ]
  },
  {
   "cell_type": "markdown",
   "metadata": {
    "slideshow": {
     "slide_type": "subslide"
    }
   },
   "source": [
    "### Planear.\n",
    "\n",
    "* Metodologías ágiles.\n",
    "* Gestión de proyectos."
   ]
  },
  {
   "cell_type": "markdown",
   "metadata": {
    "slideshow": {
     "slide_type": "slide"
    }
   },
   "source": [
    "## Variaciones y extensiones de DevOps."
   ]
  },
  {
   "cell_type": "markdown",
   "metadata": {
    "slideshow": {
     "slide_type": "fragment"
    }
   },
   "source": [
    "### DevSecOps/SecDevOps."
   ]
  },
  {
   "cell_type": "markdown",
   "metadata": {},
   "source": [
    "<img src=\"img/08/devsecops.png\" width=\"70%\">"
   ]
  },
  {
   "cell_type": "markdown",
   "metadata": {
    "slideshow": {
     "slide_type": "fragment"
    }
   },
   "source": [
    "### *GitOps*."
   ]
  },
  {
   "cell_type": "markdown",
   "metadata": {},
   "source": [
    "*GitOps* utiliza los repositorios de *Git* como única fuente de verdad para entregar la infraestructura como código (*IaC*). El código enviado verifica el proceso de *CI*, mientras que el proceso de *CD* verifica y aplica requisitos para aspectos como la seguridad, la infraestructura como código o cualquier otro límite establecido para el marco de la aplicación."
   ]
  },
  {
   "cell_type": "markdown",
   "metadata": {
    "slideshow": {
     "slide_type": "fragment"
    }
   },
   "source": [
    "### *DataOps*."
   ]
  },
  {
   "cell_type": "markdown",
   "metadata": {},
   "source": [
    "*DataOps* es un conjunto de prácticas, procesos y tecnologías que combina una perspectiva integrada y orientada a procesos sobre los datos con automatización y métodos de ingeniería de software ágil para mejorar la calidad, la velocidad y la colaboración y promover una cultura de mejora continua en el área de análisis de datos."
   ]
  },
  {
   "cell_type": "markdown",
   "metadata": {
    "slideshow": {
     "slide_type": "fragment"
    }
   },
   "source": [
    "### *MLOps*."
   ]
  },
  {
   "cell_type": "markdown",
   "metadata": {},
   "source": [
    "*MLOps* busca aumentar la automatización y mejorar la calidad de los modelos de producción, al mismo tiempo que se enfoca en los requisitos regulatorios y comerciales. Si bien MLOps comenzó como un conjunto de mejores prácticas, está evolucionando lentamente hacia un enfoque independiente para la gestión del ciclo de vida de ML."
   ]
  },
  {
   "cell_type": "markdown",
   "metadata": {
    "slideshow": {
     "slide_type": "fragment"
    }
   },
   "source": [
    "### Site Reliablity Engineering (SRE).\n",
    "\n",
    "* https://sre.google/"
   ]
  },
  {
   "cell_type": "markdown",
   "metadata": {},
   "source": [
    "## Herramientas (*tooling*) y *stacks*."
   ]
  },
  {
   "cell_type": "markdown",
   "metadata": {
    "slideshow": {
     "slide_type": "fragment"
    }
   },
   "source": [
    "* https://stackshare.io/"
   ]
  },
  {
   "cell_type": "markdown",
   "metadata": {
    "slideshow": {
     "slide_type": "slide"
    }
   },
   "source": [
    "# ¿De aquí a dónde?"
   ]
  },
  {
   "cell_type": "markdown",
   "metadata": {
    "slideshow": {
     "slide_type": "fragment"
    }
   },
   "source": [
    "* https://octopus.com/devops/"
   ]
  },
  {
   "cell_type": "markdown",
   "metadata": {
    "slideshow": {
     "slide_type": "fragment"
    }
   },
   "source": [
    "* https://medium.com/@mike_tyson_cloud/devops-devsecops-finops-dataops-mlops-gitops-lifecycle-explained-f197ce4e7126"
   ]
  },
  {
   "cell_type": "markdown",
   "metadata": {
    "slideshow": {
     "slide_type": "slide"
    }
   },
   "source": [
    "<p style=\"text-align: center\"><a rel=\"license\" href=\"http://creativecommons.org/licenses/by/4.0/\"><img alt=\"Licencia Creative Commons\" style=\"border-width:0\" src=\"https://i.creativecommons.org/l/by/4.0/80x15.png\" /></a><br />Esta obra está bajo una <a rel=\"license\" href=\"http://creativecommons.org/licenses/by/4.0/\">Licencia Creative Commons Atribución 4.0 Internacional</a>.</p>\n",
    "<p style=\"text-align: center\">&copy; José Luis Chiquete Valdivieso. 2023.</p>"
   ]
  }
 ],
 "metadata": {
  "kernelspec": {
   "display_name": "Python 3 (ipykernel)",
   "language": "python",
   "name": "python3"
  },
  "language_info": {
   "codemirror_mode": {
    "name": "ipython",
    "version": 3
   },
   "file_extension": ".py",
   "mimetype": "text/x-python",
   "name": "python",
   "nbconvert_exporter": "python",
   "pygments_lexer": "ipython3",
   "version": "3.9.2"
  }
 },
 "nbformat": 4,
 "nbformat_minor": 2
}
