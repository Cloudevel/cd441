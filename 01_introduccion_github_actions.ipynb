{
 "cells": [
  {
   "cell_type": "markdown",
   "id": "614bf415",
   "metadata": {},
   "source": [
    "# Introducción a *Github Actions*."
   ]
  },
  {
   "cell_type": "markdown",
   "id": "bb3fb637",
   "metadata": {},
   "source": [
    "Durante el ciclo de vida del desarrollo de software (*SDL*) es común toparse con procesos que pueden ser complejos, repetitivos, tediosos, o que consumen tiempo en su realización y que son susceptibles de ser automatizados. A estos procesos se le conoce *toil* o esfuerzo innecesario. Estos esfuerzos no generan valor y una vez automatizados, no necesita de una supervisión humana.\n",
    "\n",
    "Uno de los objetivos de la práctica de *Site Reliability Engineering* (*SRE*) es la de disminuir este tipo de esfuerzos mediante la automatización.\n",
    "\n",
    "https://sre.google/workbook/eliminating-toil/\n",
    "\n",
    "Algunas de estas actividades pueden ser:\n",
    "\n",
    "* Añadir colaboradores.\n",
    "* Cerrar *issues* y *pull requests* viejos.\n",
    "* Realizar pull *requests*.\n",
    "* Generar etiquetas.\n",
    "* Arreglar *issues* y hacer un *pull requets*.\n",
    "* Verificar un *pull request* y enviarlo a la rama principal.\n",
    "* Generar una nueva versión con un número.\n",
    "* Crear un *pipeline* param probar y construir código."
   ]
  },
  {
   "cell_type": "markdown",
   "id": "5742bb0b",
   "metadata": {},
   "source": [
    "*Github Actions* es un servicio de *Github* que permite configurar y ejecutar flujos de trabajo a partir de eventos que ocurren en un repositorio de *Github*. Este servicio permite realizar operaciones de *CI/CD* tanto en el entorno de *Github* como en plataformas de nube e incluso *on-premise*.\n",
    "\n",
    "Es posible configurar un flujo de trabajo de *GitHub Actions* para que se active cuando ocurra un evento en un repositorio, tal como un *pull request* o la creación de un *issue*. Los flujos de trabajo contienen uno o más trabajos (*jobs*) que pueden ejecutarse en orden secuencial o en paralelo. Cada trabajo se ejecutará dentro de su propio ejecutor (*runner*) de máquina virtual, o dentro de un contenedor, y tiene uno o más pasos que ejecutan un *script* o una acción (*action*).\n",
    "\n",
    "<img src=\"img/01/github_actions_basico.svg\" width=\"70%\">\n",
    "\n",
    "https://docs.github.com/en/actions/learn-github-actions/understanding-github-actions"
   ]
  },
  {
   "cell_type": "markdown",
   "id": "8c474a81",
   "metadata": {},
   "source": [
    "## Flujos de trabajo (*workflow*)."
   ]
  },
  {
   "cell_type": "markdown",
   "id": "62da43b9",
   "metadata": {},
   "source": [
    "Los flujos de trabajo (*workflows*) son procesos automatizados y configurables, capaces de correr uno o más trabajos (*jobs*) de froma simultaéna y/o paralela.\n",
    "\n",
    "Los *workflows* se definen mediante un documento *YAML* (con extensión ```.yml```) y pueden ser ejecutadas de forma manual, mediante un *trigger* o mediante la [*API REST* de *GitHub*](https://docs.github.com/en/rest/actions).\n",
    "\n",
    "Los *workflows* pueden construir, probar empaquetar, liberar y desplegar cualquier proyecto en *GitHub*.\n",
    "\n",
    "Un repositorio de *GitHub* puede contener uno o más *workflows*, los cuales se localizan en el subdirectorio ```.github/workflows/```. "
   ]
  },
  {
   "cell_type": "markdown",
   "id": "d607d836",
   "metadata": {},
   "source": [
    "**Ejemplo:**"
   ]
  },
  {
   "cell_type": "markdown",
   "id": "3d478096",
   "metadata": {},
   "source": [
    "* El siguiente código contiene la plantilla de un *workflow* que despliega infraestructura en *GCP* mediante *Terraform* al hacer un *push* en la rama ```main```.\n",
    "\n",
    "```yaml\n",
    "name: 'Terraform CI'\n",
    "\n",
    "on:\n",
    "  push:\n",
    "    branches:\n",
    "    - main\n",
    "  pull_request:\n",
    "\n",
    "jobs:\n",
    "  terraform:\n",
    "    name: 'Terraform'\n",
    "    runs-on: ubuntu-latest\n",
    "\n",
    "    # Use the Bash shell regardless whether the GitHub Actions runner is ubuntu-latest, macos-latest, or windows-latest\n",
    "    defaults:\n",
    "      run:\n",
    "        shell: bash\n",
    "\n",
    "    steps:\n",
    "    # Checkout the repository to the GitHub Actions runner\n",
    "    - name: Checkout\n",
    "      uses: actions/checkout@v2\n",
    "\n",
    "    # Install the latest version of Terraform CLI and configure the Terraform CLI configuration file with a Terraform Cloud user API token\n",
    "    - name: Setup Terraform\n",
    "      uses: hashicorp/setup-terraform@v1\n",
    "\n",
    "\n",
    "    # Initialize a new or existing Terraform working directory by creating initial files, loading any remote state, downloading modules, etc.\n",
    "    - name: Terraform Init\n",
    "      run: terraform init\n",
    "      env:\n",
    "        GOOGLE_CREDENTIALS: ${{ secrets.GOOGLE_CREDENTIALS }}\n",
    "\n",
    "    # Checks that all Terraform configuration files adhere to a canonical format\n",
    "    - name: Terraform Format\n",
    "      run: terraform fmt -check\n",
    "\n",
    "    # Generates an execution plan for Terraform\n",
    "    - name: Terraform Plan\n",
    "      run: terraform plan\n",
    "      env:\n",
    "        GOOGLE_CREDENTIALS: ${{ secrets.GOOGLE_CREDENTIALS }}\n",
    "\n",
    "      # On push to main, build or change infrastructure according to Terraform configuration files\n",
    "      # Note: It is recommended to set up a required \"strict\" status check in your repository for \"Terraform Cloud\". See the documentation on \"strict\" required status checks for more information: https://help.github.com/en/github/administering-a-repository/types-of-required-status-checks\n",
    "    - name: Terraform Apply\n",
    "      if: github.ref == 'refs/heads/main' && github.event_name == 'push'\n",
    "      run: terraform apply -auto-approve\n",
    "      env:\n",
    "        GOOGLE_CREDENTIALS: ${{ secrets.GOOGLE_CREDENTIALS }}\n",
    "```\n",
    "\n",
    "**Fuente:** https://github.com/vikramshinde12/terraform-gcp-github-actions/blob/main/.github/workflows/workflow.yaml"
   ]
  },
  {
   "cell_type": "markdown",
   "id": "999fc0e6",
   "metadata": {},
   "source": [
    "<p style=\"text-align: center\"><a rel=\"license\" href=\"http://creativecommons.org/licenses/by/4.0/\"><img alt=\"Licencia Creative Commons\" style=\"border-width:0\" src=\"https://i.creativecommons.org/l/by/4.0/80x15.png\" /></a><br />Esta obra está bajo una <a rel=\"license\" href=\"http://creativecommons.org/licenses/by/4.0/\">Licencia Creative Commons Atribución 4.0 Internacional</a>.</p>\n",
    "<p style=\"text-align: center\">&copy; José Luis Chiquete Valdivieso. 2023.</p>"
   ]
  }
 ],
 "metadata": {
  "kernelspec": {
   "display_name": "Python 3 (ipykernel)",
   "language": "python",
   "name": "python3"
  },
  "language_info": {
   "codemirror_mode": {
    "name": "ipython",
    "version": 3
   },
   "file_extension": ".py",
   "mimetype": "text/x-python",
   "name": "python",
   "nbconvert_exporter": "python",
   "pygments_lexer": "ipython3",
   "version": "3.10.6"
  }
 },
 "nbformat": 4,
 "nbformat_minor": 5
}
