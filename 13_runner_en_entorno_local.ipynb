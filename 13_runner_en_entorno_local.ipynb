{
 "cells": [
  {
   "cell_type": "markdown",
   "id": "4de69df2",
   "metadata": {},
   "source": [
    "05_artefactos"
   ]
  }
 ],
 "metadata": {
  "kernelspec": {
   "display_name": "Bash",
   "language": "bash",
   "name": "bash"
  },
  "language_info": {
   "codemirror_mode": "shell",
   "file_extension": ".sh",
   "mimetype": "text/x-sh",
   "name": "bash"
  }
 },
 "nbformat": 4,
 "nbformat_minor": 5
}
