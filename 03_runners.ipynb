{
 "cells": [
  {
   "cell_type": "markdown",
   "id": "614bf415",
   "metadata": {},
   "source": [
    "# Runners."
   ]
  },
  {
   "cell_type": "markdown",
   "id": "29780322",
   "metadata": {},
   "source": [
    "Los *workflows* por si mismos no pueden ejecutarse. Requieren de entornos de cómputo y almacenamiento para cada tarea (*job*). A estos entornos se les conoce como *runners*.\n",
    "\n",
    "Los *runners* son máquinas virtuales preconfiguradas que pueden ser aprovisionadas por *Github*, por algún proveedor de nube e incluso en entornos locales.\n",
    "\n",
    "**Nota:** En este capítulo se tratará exclusivamente sobre los *runners* aprovisionados por *GitHub*.\n",
    "\n",
    "https://docs.github.com/es/actions/using-github-hosted-runners/about-github-hosted-runners"
   ]
  },
  {
   "cell_type": "markdown",
   "id": "dbd29344",
   "metadata": {},
   "source": [
    "Cada *job* se ejecuta en su propio *runner* y una vez que el *job* termina, el *runner* es desechado. \n",
    "\n",
    "![image.png](img/03/03-01.png)"
   ]
  },
  {
   "cell_type": "markdown",
   "id": "2d13b88f",
   "metadata": {},
   "source": [
    "## Sistemas operativos disponibles."
   ]
  },
  {
   "cell_type": "markdown",
   "id": "38e95ae4",
   "metadata": {},
   "source": [
    "Los *runners* alojados por *Github* pueden usar sistemas operartivos basados en *Windows*, *MacOS X* y *GNU/Linux* (*Ubuntu*)."
   ]
  },
  {
   "cell_type": "markdown",
   "id": "83bf714b",
   "metadata": {},
   "source": [
    "|Imagen de *runner* | Etiqueta *YAML* |\n",
    "|:--:|:--:|\n",
    "| Windows Server 2022 | ```windows-latest``` o ```windows-2022```| \n",
    "| Windows Server 2019 | ```windows-2019```|\n",
    "| Ubuntu 22.04 | ```ubuntu-latest``` o ```ubuntu-22.04```|\n",
    "| Ubuntu 20.04 | ```ubuntu-20.04``` |\n",
    "| MacOS Monterey 12| ```macos-latest```, ```macos-12```, ```macos-latest-xl``` o ```macos-12-xl```|\n",
    "| MacOS Big Sur 11    |\t```macos-11```|"
   ]
  },
  {
   "cell_type": "markdown",
   "id": "bdbe434a",
   "metadata": {},
   "source": [
    "## Recursos de hardware disponible."
   ]
  },
  {
   "cell_type": "markdown",
   "id": "1fb0b4bb",
   "metadata": {},
   "source": [
    "Para máquinas virtuales *Windows* y *GNU/Linux*:\n",
    "* CPU de 2 núcleos (x86_64)\n",
    "* 7 GB de RAM\n",
    "* 14 GB de espacio en SSD\n",
    "\n",
    "Para máquinas virtuales *MacOS X*:\n",
    "\n",
    "* CPU de 3 núcleos (x86_64)\n",
    "* 14 GB de RAM\n",
    "* 14 GB de espacio en SSD"
   ]
  },
  {
   "cell_type": "markdown",
   "id": "97ac7dbe",
   "metadata": {},
   "source": [
    "## Software preinstalado."
   ]
  },
  {
   "cell_type": "markdown",
   "id": "7bc68719",
   "metadata": {},
   "source": [
    "Cada sistema operativo cuenta con bibliotecas y herramienta preinstaladas, la cuales pueden ser consultadas en el siguiente enlace:\n",
    "* https://docs.github.com/es/actions/using-github-hosted-runners/about-github-hosted-runners#preinstalled-software\n"
   ]
  },
  {
   "cell_type": "markdown",
   "id": "607b21f7",
   "metadata": {},
   "source": [
    "## Costo por el uso de los *runners*."
   ]
  },
  {
   "cell_type": "markdown",
   "id": "b819b80e",
   "metadata": {},
   "source": [
    "El uso de los *runners* alojados en *Github Actions* implica costos que son medidos por:\n",
    "\n",
    "* Tiempo de ejecución de recusros de cómputo, medido en minutos por mes.\n",
    "* Almacenamiento, medido en GB."
   ]
  },
  {
   "cell_type": "markdown",
   "id": "bba5de5c",
   "metadata": {},
   "source": [
    "### La capa gratuita.\n",
    "\n",
    "Dependiendo de la suscripción, *Github* ofrece minutos de cómputo y almacenamiento gratuitos.\n",
    "\n",
    "El siguiente enlace detalla la política de costos de los *runners*:\n",
    "\n",
    "* https://docs.github.com/en/billing/managing-billing-for-github-actions/about-billing-for-github-actions"
   ]
  },
  {
   "cell_type": "markdown",
   "id": "50cf03c9",
   "metadata": {},
   "source": [
    "<p style=\"text-align: center\"><a rel=\"license\" href=\"http://creativecommons.org/licenses/by/4.0/\"><img alt=\"Licencia Creative Commons\" style=\"border-width:0\" src=\"https://i.creativecommons.org/l/by/4.0/80x15.png\" /></a><br />Esta obra está bajo una <a rel=\"license\" href=\"http://creativecommons.org/licenses/by/4.0/\">Licencia Creative Commons Atribución 4.0 Internacional</a>.</p>\n",
    "<p style=\"text-align: center\">&copy; José Luis Chiquete Valdivieso. 2023.</p>"
   ]
  }
 ],
 "metadata": {
  "kernelspec": {
   "display_name": "Python 3 (ipykernel)",
   "language": "python",
   "name": "python3"
  },
  "language_info": {
   "codemirror_mode": {
    "name": "ipython",
    "version": 3
   },
   "file_extension": ".py",
   "mimetype": "text/x-python",
   "name": "python",
   "nbconvert_exporter": "python",
   "pygments_lexer": "ipython3",
   "version": "3.9.2"
  }
 },
 "nbformat": 4,
 "nbformat_minor": 5
}
