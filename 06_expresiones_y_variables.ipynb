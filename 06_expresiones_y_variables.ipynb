{
 "cells": [
  {
   "cell_type": "markdown",
   "id": "29fd488e",
   "metadata": {},
   "source": [
    "# Expresiones y variables."
   ]
  },
  {
   "cell_type": "markdown",
   "id": "84a61d66",
   "metadata": {},
   "source": [
    "*YAML* por si mismo no es un lenguaje de programación, sino un lenguaje declarativo de serialización de datos. Sin embargo, la implementación de una sintraxis para *Github Actions* permite utilizar algunos elementos que extienden a *YAML* y le dan ciertas funcionalidades como lenguaje de dominio específico:\n",
    "\n",
    "* El [uso limitado de condicionales](https://docs.github.com/es/actions/using-jobs/using-conditions-to-control-job-execution).\n",
    "* Definir [precedencias](https://docs.github.com/en/actions/using-workflows/workflow-syntax-for-github-actions#jobsjob_idneeds)."
   ]
  },
  {
   "cell_type": "markdown",
   "id": "9fbb02c5",
   "metadata": {},
   "source": [
    "Una de las grandes ventajas de la sintaxis del *YAML* de *Github Actions* es el uso de expresiones y variables."
   ]
  },
  {
   "cell_type": "markdown",
   "id": "e0af48ee",
   "metadata": {},
   "source": [
    "## Expresiones."
   ]
  },
  {
   "cell_type": "markdown",
   "id": "f9a5be94",
   "metadata": {},
   "source": [
    "*GitHub* permite la ejecución de expresiones básicas utilizando la siguiente sintaxis:\n",
    "\n",
    "```\n",
    "${{<expresión>}}\n",
    "```\n",
    "\n",
    "Donde:\n",
    "\n",
    "* ```<expresión>``` corresponde a una cadena de caracteres que representa una expresión sintácticamante correcta."
   ]
  },
  {
   "cell_type": "markdown",
   "id": "06c8a75f",
   "metadata": {},
   "source": [
    "### Tipos de datos aceptados en una expresión.\n",
    "\n",
    "\n",
    "|Tipo de datos|Valor literal|\n",
    "|:---:|:---:|\n",
    "|boolean|```true``` o ```false```|\n",
    "|null|```null```|\n",
    "|number|Cualquier formato de número compatible con *JSON*.|\n",
    "|string|No es necesario incluir las cadenas en ```${{ y }}```. Sin embargo, en caso de ocurrir, es necesario  utilizar comillas simples (```'```) alrededor de la cadena. Para escapar una comilla simple, se usa una comilla simple adicional (```''```).|"
   ]
  },
  {
   "cell_type": "markdown",
   "id": "3b3b2a68",
   "metadata": {},
   "source": [
    "### Operadores.\n",
    "\n",
    "\n",
    "|Operador|Descripción|\n",
    "|:--:|:--|\n",
    "|```( )```|\tAgrupación lógica|\n",
    "|```[ ]``` | Índice |\n",
    "|```.```| Propiedad |\n",
    "|```!```| NOT lógico |\n",
    "|```&&```| AND lógico |\n",
    "| &#124;&#124; | OR lógico |\n",
    "|```<```| Menor que |\n",
    "|```>```| Mayor que |\n",
    "| ```<=```|\tMenor o igual que |\n",
    "|```>=```| Mayor o igual que |\n",
    "| ```==```|\tIgual a |\n",
    "|```!=``` |\tNo igual a |\n"
   ]
  },
  {
   "cell_type": "markdown",
   "id": "1d62feb1",
   "metadata": {},
   "source": [
    "### Funciones.\n",
    "\n",
    "El *DSL* de *GitHub Actions* también soporta algunas funciones, las cuales pueden ser consultadas en:\n",
    "\n",
    "* https://docs.github.com/en/actions/learn-github-actions/expressions#functions"
   ]
  },
  {
   "cell_type": "markdown",
   "id": "2c209783",
   "metadata": {},
   "source": [
    "## Contextos de variables."
   ]
  },
  {
   "cell_type": "markdown",
   "id": "2be9d34b",
   "metadata": {},
   "source": [
    "*GitHub* permite definir variables en diversos contextos. \n",
    "\n",
    "Se entiende por contexto, un componente de *GitHub*, como es el caso de la configuración general, o la del repositorio actual.\n",
    "\n",
    "El siguiente enlace contiene mayor información sobre los contextos.\n",
    "\n",
    "* https://docs.github.com/en/actions/learn-github-actions/contexts#env-context"
   ]
  },
  {
   "cell_type": "markdown",
   "id": "e89c72b7",
   "metadata": {},
   "source": [
    "## Variables.\n",
    "\n",
    "Los *YAML* de *Github Actions* permiten definir variables en el contexto local del documento o en contextos superiores.\n",
    "\n",
    "Las variables dentro de un documento *YAML* se definen como variables de entrorno, las cuales son propiedades del contexto ```env```.\n",
    "\n",
    "```\n",
    "env:\n",
    "  <nombre>: <valor>\n",
    "```\n",
    "\n",
    "Donde:\n",
    "\n",
    "* ```<nombre>``` es el nombre de la  variable.\n",
    "* ```<valor>``` es el valor asignado a la  variable.\n",
    "\n",
    "Las variables pueden ser invocadas en cualquier parte del documento *YAML* o en expresiones usando la siguiente sintaxis.\n",
    "\n",
    "```\n",
    "$<contexto>.<nombre>\n",
    "```\n",
    "\n",
    "Donde:\n",
    "\n",
    "* ```<contexto>``` es el contexto al que pertenece la variable, Si no se incluye un contexto, se infiere que el conexto corresponde a ```env```.\n",
    "* ```<nombre>``` es el nombre de la  variable.\n",
    "\n",
    "Del mismo modo, una variable puede ser referida dentro de una expresión usando la siguiente sintaxis.\n",
    "\n",
    "```\n",
    "${{ <contexto>.<variable> }}\n",
    "```\n",
    "Donde:\n",
    "\n",
    "* ```<contexto>``` es el contexto al que pertenece la variable, Si no se incluye un contexto, se infiere que el conexto corresponde a ```env```.\n",
    "* ```<nombre>``` es el nombre de la  variable.\n"
   ]
  },
  {
   "cell_type": "markdown",
   "id": "e34d275e",
   "metadata": {},
   "source": [
    "## Secretos y variables de *Actions*.\n",
    "\n",
    "Es posible definir variables que son accesibles por cualquier *workflow* en un repositorio al registrarlas como variables de *Actions*.\n",
    "\n",
    "Las variables de *Actions* pertenecen al contexto [```vars```](https://docs.github.com/en/actions/learn-github-actions/contexts#vars-context).\n",
    "\n",
    "**Nota:** Las variables de este tipo  siempre se escribe en mayúsculas. Incluso cuando se definan en minúsculas, éstas son cambiadas de forma automática."
   ]
  },
  {
   "cell_type": "markdown",
   "id": "78ed9fa5",
   "metadata": {},
   "source": [
    "### Actividad:"
   ]
  },
  {
   "attachments": {},
   "cell_type": "markdown",
   "id": "860fc364",
   "metadata": {},
   "source": [
    "* En el repositorio que se creó en la actividad previa, seleccionar la pestaña de ```Settings```.\n",
    "\n",
    "![image-2.png](img/06/06-01.png)"
   ]
  },
  {
   "attachments": {},
   "cell_type": "markdown",
   "id": "9f149ee9",
   "metadata": {},
   "source": [
    "* En el menú lateral izquierdo, seleccionar ```Secrets and variables``` para ```Actions```.\n",
    "\n",
    "![image-2.png](img/06/06-02.png)"
   ]
  },
  {
   "attachments": {},
   "cell_type": "markdown",
   "id": "3b2623b3",
   "metadata": {},
   "source": [
    "* Seleccionando la pestaña ```Variables```, es posible definir variables para entornos y variables para el reposotrio.\n",
    "\n",
    "![image-2.png](img/06/06-03.png)"
   ]
  },
  {
   "attachments": {},
   "cell_type": "markdown",
   "id": "56bfb9a8",
   "metadata": {},
   "source": [
    "* Al seleccionar el botón ```New repository Variable``` es posible añadir una variable al repositorio. En este caso, el nombre se ingresa como ```variable_demo``` y el valor ```Hola, Mundo.```\n",
    "\n",
    "![image-2.png](img/06/06-04.png)"
   ]
  },
  {
   "attachments": {},
   "cell_type": "markdown",
   "id": "0dbced95",
   "metadata": {},
   "source": [
    "* Al asignarle un nombre y un valor a la variable y seleccionar el botón ```Add variable```, la variable es definida. Cabe hacer notar que el nombre de la variable fue cambiado a mayúsculas.\n",
    "\n",
    "![image-2.png](img/06/06-05.png)"
   ]
  },
  {
   "cell_type": "markdown",
   "id": "de948233",
   "metadata": {},
   "source": [
    "### Secretos.\n",
    "\n",
    "Los secretos son idénticos a la variables con la diferencia de que una vez definidos, los valores no vuelven a ser visibles ni desplegables.\n",
    "\n",
    "Loo secretos corresponden al contexto [```secrets```](https://docs.github.com/en/actions/learn-github-actions/contexts#secrets-context)."
   ]
  },
  {
   "cell_type": "markdown",
   "id": "302136e7",
   "metadata": {},
   "source": [
    "**Ejemplo:**"
   ]
  },
  {
   "attachments": {},
   "cell_type": "markdown",
   "id": "65f68395",
   "metadata": {},
   "source": [
    "* En la pestaña ```Secrets```, seleccionar el botón ```New repository secret```.\n",
    "\n",
    "![image-2.png](img/06/06-06.png)"
   ]
  },
  {
   "attachments": {},
   "cell_type": "markdown",
   "id": "0569b71f",
   "metadata": {},
   "source": [
    "* Se definirá un secreto con nombre ```MUY_SECRETO``` y el valor ```Esto no volverá a ser desplegado```.\n",
    "\n",
    "![image-2.png](img/06/06-07.png)"
   ]
  },
  {
   "attachments": {},
   "cell_type": "markdown",
   "id": "ff22f4ae",
   "metadata": {},
   "source": [
    "* Al seleccionar el botón ```Add secret```, se añadirá el secreto.\n",
    "\n",
    "![image-2.png](img/06/06-08.png)"
   ]
  },
  {
   "cell_type": "markdown",
   "id": "1466444b",
   "metadata": {},
   "source": [
    "<p style=\"text-align: center\"><a rel=\"license\" href=\"http://creativecommons.org/licenses/by/4.0/\"><img alt=\"Licencia Creative Commons\" style=\"border-width:0\" src=\"https://i.creativecommons.org/l/by/4.0/80x15.png\" /></a><br />Esta obra está bajo una <a rel=\"license\" href=\"http://creativecommons.org/licenses/by/4.0/\">Licencia Creative Commons Atribución 4.0 Internacional</a>.</p>\n",
    "<p style=\"text-align: center\">&copy; José Luis Chiquete Valdivieso. 2023.</p>"
   ]
  }
 ],
 "metadata": {
  "kernelspec": {
   "display_name": "Bash",
   "language": "bash",
   "name": "bash"
  },
  "language_info": {
   "codemirror_mode": "shell",
   "file_extension": ".sh",
   "mimetype": "text/x-sh",
   "name": "bash"
  }
 },
 "nbformat": 4,
 "nbformat_minor": 5
}
